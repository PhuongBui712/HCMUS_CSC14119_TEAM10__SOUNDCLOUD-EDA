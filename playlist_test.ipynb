{
 "cells": [
  {
   "cell_type": "code",
   "execution_count": 2,
   "id": "cc66c6dc",
   "metadata": {},
   "outputs": [],
   "source": [
    "import pandas as pd\n",
    "import numpy as np\n",
    "import datetime\n",
    "import matplotlib.pyplot as plt\n",
    "import seaborn as sns\n",
    "import statistics\n",
    "import numpy as np"
   ]
  },
  {
   "cell_type": "markdown",
   "id": "fe2c96cb",
   "metadata": {},
   "source": [
    "# Đọc dữ liệu"
   ]
  },
  {
   "cell_type": "code",
   "execution_count": 3,
   "id": "de3c3c88",
   "metadata": {},
   "outputs": [],
   "source": [
    "df_playlists = pd.read_csv('playlist.csv')"
   ]
  },
  {
   "cell_type": "code",
   "execution_count": 4,
   "id": "4e1fb4c5",
   "metadata": {
    "scrolled": true
   },
   "outputs": [
    {
     "data": {
      "text/html": [
       "<div>\n",
       "<style scoped>\n",
       "    .dataframe tbody tr th:only-of-type {\n",
       "        vertical-align: middle;\n",
       "    }\n",
       "\n",
       "    .dataframe tbody tr th {\n",
       "        vertical-align: top;\n",
       "    }\n",
       "\n",
       "    .dataframe thead th {\n",
       "        text-align: right;\n",
       "    }\n",
       "</style>\n",
       "<table border=\"1\" class=\"dataframe\">\n",
       "  <thead>\n",
       "    <tr style=\"text-align: right;\">\n",
       "      <th></th>\n",
       "      <th>playlist_id</th>\n",
       "      <th>playlist_name</th>\n",
       "      <th>playlist_url</th>\n",
       "      <th>owner_id</th>\n",
       "      <th>username</th>\n",
       "      <th>playlist_time</th>\n",
       "      <th>playlist_tag</th>\n",
       "      <th>like</th>\n",
       "      <th>repost</th>\n",
       "      <th>size</th>\n",
       "      <th>tracks</th>\n",
       "    </tr>\n",
       "  </thead>\n",
       "  <tbody>\n",
       "    <tr>\n",
       "      <th>0</th>\n",
       "      <td>0</td>\n",
       "      <td>Lat3 Nit3</td>\n",
       "      <td>https://www.soundcloud.com/latenit3/sets/lat3-...</td>\n",
       "      <td>1893</td>\n",
       "      <td>Latenit3</td>\n",
       "      <td>2017-04-21T12:05:32.000Z</td>\n",
       "      <td>NaN</td>\n",
       "      <td>20</td>\n",
       "      <td>3</td>\n",
       "      <td>0</td>\n",
       "      <td>[]</td>\n",
       "    </tr>\n",
       "    <tr>\n",
       "      <th>1</th>\n",
       "      <td>1</td>\n",
       "      <td>lofi 4 studying</td>\n",
       "      <td>https://www.soundcloud.com/suricolbert/sets/lo...</td>\n",
       "      <td>1894</td>\n",
       "      <td>suri</td>\n",
       "      <td>2017-02-20T01:17:24.000Z</td>\n",
       "      <td>Hip-hop &amp; Rap</td>\n",
       "      <td>210</td>\n",
       "      <td>8318</td>\n",
       "      <td>86</td>\n",
       "      <td>[0, 1, 2, 3, 4, 5, 6, 7, 8, 9, 10, 11, 12, 13,...</td>\n",
       "    </tr>\n",
       "    <tr>\n",
       "      <th>2</th>\n",
       "      <td>2</td>\n",
       "      <td>Lowfi hip hop chills</td>\n",
       "      <td>https://www.soundcloud.com/nuedenk/sets/lowfi-...</td>\n",
       "      <td>1895</td>\n",
       "      <td>Nix</td>\n",
       "      <td>2017-03-10T07:58:45.000Z</td>\n",
       "      <td>Lofi Hip Hop</td>\n",
       "      <td>203</td>\n",
       "      <td>20</td>\n",
       "      <td>135</td>\n",
       "      <td>[86, 87, 88, 89, 90, 91, 92, 93, 94, 95, 96, 9...</td>\n",
       "    </tr>\n",
       "    <tr>\n",
       "      <th>3</th>\n",
       "      <td>3</td>\n",
       "      <td>Late Night Drive</td>\n",
       "      <td>https://www.soundcloud.com/lordafi/sets/sweg</td>\n",
       "      <td>1896</td>\n",
       "      <td>TMN Playlisted</td>\n",
       "      <td>2014-07-21T07:00:32.000Z</td>\n",
       "      <td>Dance &amp; EDM</td>\n",
       "      <td>75</td>\n",
       "      <td>5122</td>\n",
       "      <td>45</td>\n",
       "      <td>[219, 220, 221, 222, 223, 224, 225, 226, 227, ...</td>\n",
       "    </tr>\n",
       "    <tr>\n",
       "      <th>4</th>\n",
       "      <td>4</td>\n",
       "      <td>Late Night Lofi</td>\n",
       "      <td>https://www.soundcloud.com/ilyanaazman/sets/la...</td>\n",
       "      <td>1897</td>\n",
       "      <td>Ilyana Azman</td>\n",
       "      <td>2017-08-14T13:00:19.000Z</td>\n",
       "      <td>NaN</td>\n",
       "      <td>48</td>\n",
       "      <td>2372</td>\n",
       "      <td>40</td>\n",
       "      <td>[264, 265, 266, 267, 57, 268, 269, 270, 271, 2...</td>\n",
       "    </tr>\n",
       "    <tr>\n",
       "      <th>...</th>\n",
       "      <td>...</td>\n",
       "      <td>...</td>\n",
       "      <td>...</td>\n",
       "      <td>...</td>\n",
       "      <td>...</td>\n",
       "      <td>...</td>\n",
       "      <td>...</td>\n",
       "      <td>...</td>\n",
       "      <td>...</td>\n",
       "      <td>...</td>\n",
       "      <td>...</td>\n",
       "    </tr>\n",
       "    <tr>\n",
       "      <th>304</th>\n",
       "      <td>304</td>\n",
       "      <td>80'an</td>\n",
       "      <td>https://www.soundcloud.com/pbgcheat/sets/80an</td>\n",
       "      <td>2160</td>\n",
       "      <td>Lagu Lawas Indonesia 90an</td>\n",
       "      <td>2016-09-07T12:32:43.000Z</td>\n",
       "      <td>NaN</td>\n",
       "      <td>745</td>\n",
       "      <td>123</td>\n",
       "      <td>0</td>\n",
       "      <td>[]</td>\n",
       "    </tr>\n",
       "    <tr>\n",
       "      <th>305</th>\n",
       "      <td>305</td>\n",
       "      <td>8lyaaaa</td>\n",
       "      <td>https://www.soundcloud.com/user374368488/sets/...</td>\n",
       "      <td>2161</td>\n",
       "      <td>user374368488</td>\n",
       "      <td>2014-05-13T18:45:50.000Z</td>\n",
       "      <td>NaN</td>\n",
       "      <td>0</td>\n",
       "      <td>0</td>\n",
       "      <td>282</td>\n",
       "      <td>[25853, 25854, 25855, 25856, 25857, 25858, 258...</td>\n",
       "    </tr>\n",
       "    <tr>\n",
       "      <th>306</th>\n",
       "      <td>306</td>\n",
       "      <td>88388</td>\n",
       "      <td>https://www.soundcloud.com/shamma-alfahim-1302...</td>\n",
       "      <td>2162</td>\n",
       "      <td>XSF9</td>\n",
       "      <td>2020-08-19T20:49:00.000Z</td>\n",
       "      <td>NaN</td>\n",
       "      <td>6</td>\n",
       "      <td>0</td>\n",
       "      <td>205</td>\n",
       "      <td>[26075, 26076, 26077, 26078, 12021, 26079, 121...</td>\n",
       "    </tr>\n",
       "    <tr>\n",
       "      <th>307</th>\n",
       "      <td>307</td>\n",
       "      <td>80s arabic</td>\n",
       "      <td>https://www.soundcloud.com/mito-mito-715670362...</td>\n",
       "      <td>2163</td>\n",
       "      <td>Mito Mito</td>\n",
       "      <td>2017-03-09T18:56:39.000Z</td>\n",
       "      <td>NaN</td>\n",
       "      <td>41</td>\n",
       "      <td>2</td>\n",
       "      <td>303</td>\n",
       "      <td>[11605, 11597, 12750, 11667, 12887, 11568, 116...</td>\n",
       "    </tr>\n",
       "    <tr>\n",
       "      <th>308</th>\n",
       "      <td>308</td>\n",
       "      <td>80s/90s reggae mix</td>\n",
       "      <td>https://www.soundcloud.com/andrew-hollands-924...</td>\n",
       "      <td>2164</td>\n",
       "      <td>Andrew Hollands</td>\n",
       "      <td>2017-04-06T11:33:53.000Z</td>\n",
       "      <td>NaN</td>\n",
       "      <td>39</td>\n",
       "      <td>2</td>\n",
       "      <td>254</td>\n",
       "      <td>[24743, 24742, 24746, 24758, 25059, 25154, 247...</td>\n",
       "    </tr>\n",
       "  </tbody>\n",
       "</table>\n",
       "<p>309 rows × 11 columns</p>\n",
       "</div>"
      ],
      "text/plain": [
       "     playlist_id         playlist_name  \\\n",
       "0              0             Lat3 Nit3   \n",
       "1              1       lofi 4 studying   \n",
       "2              2  Lowfi hip hop chills   \n",
       "3              3      Late Night Drive   \n",
       "4              4       Late Night Lofi   \n",
       "..           ...                   ...   \n",
       "304          304                 80'an   \n",
       "305          305               8lyaaaa   \n",
       "306          306                 88388   \n",
       "307          307            80s arabic   \n",
       "308          308    80s/90s reggae mix   \n",
       "\n",
       "                                          playlist_url  owner_id  \\\n",
       "0    https://www.soundcloud.com/latenit3/sets/lat3-...      1893   \n",
       "1    https://www.soundcloud.com/suricolbert/sets/lo...      1894   \n",
       "2    https://www.soundcloud.com/nuedenk/sets/lowfi-...      1895   \n",
       "3         https://www.soundcloud.com/lordafi/sets/sweg      1896   \n",
       "4    https://www.soundcloud.com/ilyanaazman/sets/la...      1897   \n",
       "..                                                 ...       ...   \n",
       "304      https://www.soundcloud.com/pbgcheat/sets/80an      2160   \n",
       "305  https://www.soundcloud.com/user374368488/sets/...      2161   \n",
       "306  https://www.soundcloud.com/shamma-alfahim-1302...      2162   \n",
       "307  https://www.soundcloud.com/mito-mito-715670362...      2163   \n",
       "308  https://www.soundcloud.com/andrew-hollands-924...      2164   \n",
       "\n",
       "                      username             playlist_time   playlist_tag  like  \\\n",
       "0                     Latenit3  2017-04-21T12:05:32.000Z            NaN    20   \n",
       "1                         suri  2017-02-20T01:17:24.000Z  Hip-hop & Rap   210   \n",
       "2                          Nix  2017-03-10T07:58:45.000Z   Lofi Hip Hop   203   \n",
       "3               TMN Playlisted  2014-07-21T07:00:32.000Z    Dance & EDM    75   \n",
       "4                 Ilyana Azman  2017-08-14T13:00:19.000Z            NaN    48   \n",
       "..                         ...                       ...            ...   ...   \n",
       "304  Lagu Lawas Indonesia 90an  2016-09-07T12:32:43.000Z            NaN   745   \n",
       "305              user374368488  2014-05-13T18:45:50.000Z            NaN     0   \n",
       "306                       XSF9  2020-08-19T20:49:00.000Z            NaN     6   \n",
       "307                  Mito Mito  2017-03-09T18:56:39.000Z            NaN    41   \n",
       "308            Andrew Hollands  2017-04-06T11:33:53.000Z            NaN    39   \n",
       "\n",
       "     repost  size                                             tracks  \n",
       "0         3     0                                                 []  \n",
       "1      8318    86  [0, 1, 2, 3, 4, 5, 6, 7, 8, 9, 10, 11, 12, 13,...  \n",
       "2        20   135  [86, 87, 88, 89, 90, 91, 92, 93, 94, 95, 96, 9...  \n",
       "3      5122    45  [219, 220, 221, 222, 223, 224, 225, 226, 227, ...  \n",
       "4      2372    40  [264, 265, 266, 267, 57, 268, 269, 270, 271, 2...  \n",
       "..      ...   ...                                                ...  \n",
       "304     123     0                                                 []  \n",
       "305       0   282  [25853, 25854, 25855, 25856, 25857, 25858, 258...  \n",
       "306       0   205  [26075, 26076, 26077, 26078, 12021, 26079, 121...  \n",
       "307       2   303  [11605, 11597, 12750, 11667, 12887, 11568, 116...  \n",
       "308       2   254  [24743, 24742, 24746, 24758, 25059, 25154, 247...  \n",
       "\n",
       "[309 rows x 11 columns]"
      ]
     },
     "execution_count": 4,
     "metadata": {},
     "output_type": "execute_result"
    }
   ],
   "source": [
    "df_playlists"
   ]
  },
  {
   "cell_type": "markdown",
   "id": "407b8a2e",
   "metadata": {},
   "source": [
    "Dữ liệu có 309 dòng và 11 cột"
   ]
  },
  {
   "cell_type": "markdown",
   "id": "7c751e3c",
   "metadata": {},
   "source": [
    "# Ý nghĩa các cột\n",
    "- playlist_id: mã định danh playlist\n",
    "- playlist_name: tên playlist\n",
    "- playlist_url: đường dẫn đến playlist\n",
    "- owner_id: mã chủ sở hữu playlist\n",
    "- username: tên chủ sở hữu\n",
    "- playlist_time: ngày xuất bản\n",
    "- playlist_tag: thể loại của playlist\n",
    "- like: số lượt thích\n",
    "- repost: số lượng đăng lại\n",
    "- size: số lượng các track trong playlist\n",
    "- tracks: các track trong playlist"
   ]
  },
  {
   "cell_type": "markdown",
   "id": "acfb7174",
   "metadata": {},
   "source": [
    "# kiểu dữ liệu các cột"
   ]
  },
  {
   "cell_type": "code",
   "execution_count": 5,
   "id": "e02886ab",
   "metadata": {},
   "outputs": [
    {
     "name": "stdout",
     "output_type": "stream",
     "text": [
      "<class 'pandas.core.frame.DataFrame'>\n",
      "RangeIndex: 309 entries, 0 to 308\n",
      "Data columns (total 11 columns):\n",
      " #   Column         Non-Null Count  Dtype \n",
      "---  ------         --------------  ----- \n",
      " 0   playlist_id    309 non-null    int64 \n",
      " 1   playlist_name  309 non-null    object\n",
      " 2   playlist_url   309 non-null    object\n",
      " 3   owner_id       309 non-null    int64 \n",
      " 4   username       309 non-null    object\n",
      " 5   playlist_time  309 non-null    object\n",
      " 6   playlist_tag   70 non-null     object\n",
      " 7   like           309 non-null    int64 \n",
      " 8   repost         309 non-null    int64 \n",
      " 9   size           309 non-null    int64 \n",
      " 10  tracks         309 non-null    object\n",
      "dtypes: int64(5), object(6)\n",
      "memory usage: 26.7+ KB\n"
     ]
    }
   ],
   "source": [
    "df_playlists.info()"
   ]
  },
  {
   "cell_type": "markdown",
   "id": "6387f677",
   "metadata": {},
   "source": [
    "# Các thông số cơ bản của các cột"
   ]
  },
  {
   "cell_type": "code",
   "execution_count": 6,
   "id": "3260f93b",
   "metadata": {},
   "outputs": [
    {
     "data": {
      "text/html": [
       "<div>\n",
       "<style scoped>\n",
       "    .dataframe tbody tr th:only-of-type {\n",
       "        vertical-align: middle;\n",
       "    }\n",
       "\n",
       "    .dataframe tbody tr th {\n",
       "        vertical-align: top;\n",
       "    }\n",
       "\n",
       "    .dataframe thead th {\n",
       "        text-align: right;\n",
       "    }\n",
       "</style>\n",
       "<table border=\"1\" class=\"dataframe\">\n",
       "  <thead>\n",
       "    <tr style=\"text-align: right;\">\n",
       "      <th></th>\n",
       "      <th>playlist_id</th>\n",
       "      <th>owner_id</th>\n",
       "      <th>like</th>\n",
       "      <th>repost</th>\n",
       "      <th>size</th>\n",
       "    </tr>\n",
       "  </thead>\n",
       "  <tbody>\n",
       "    <tr>\n",
       "      <th>count</th>\n",
       "      <td>309.000000</td>\n",
       "      <td>309.000000</td>\n",
       "      <td>309.000000</td>\n",
       "      <td>309.000000</td>\n",
       "      <td>309.000000</td>\n",
       "    </tr>\n",
       "    <tr>\n",
       "      <th>mean</th>\n",
       "      <td>154.000000</td>\n",
       "      <td>1944.207120</td>\n",
       "      <td>561.110032</td>\n",
       "      <td>496.792880</td>\n",
       "      <td>110.317152</td>\n",
       "    </tr>\n",
       "    <tr>\n",
       "      <th>std</th>\n",
       "      <td>89.344838</td>\n",
       "      <td>345.646856</td>\n",
       "      <td>1683.387834</td>\n",
       "      <td>1409.731418</td>\n",
       "      <td>149.263918</td>\n",
       "    </tr>\n",
       "    <tr>\n",
       "      <th>min</th>\n",
       "      <td>0.000000</td>\n",
       "      <td>124.000000</td>\n",
       "      <td>0.000000</td>\n",
       "      <td>0.000000</td>\n",
       "      <td>0.000000</td>\n",
       "    </tr>\n",
       "    <tr>\n",
       "      <th>25%</th>\n",
       "      <td>77.000000</td>\n",
       "      <td>1948.000000</td>\n",
       "      <td>2.000000</td>\n",
       "      <td>0.000000</td>\n",
       "      <td>5.000000</td>\n",
       "    </tr>\n",
       "    <tr>\n",
       "      <th>50%</th>\n",
       "      <td>154.000000</td>\n",
       "      <td>2013.000000</td>\n",
       "      <td>16.000000</td>\n",
       "      <td>2.000000</td>\n",
       "      <td>21.000000</td>\n",
       "    </tr>\n",
       "    <tr>\n",
       "      <th>75%</th>\n",
       "      <td>231.000000</td>\n",
       "      <td>2090.000000</td>\n",
       "      <td>113.000000</td>\n",
       "      <td>90.000000</td>\n",
       "      <td>216.000000</td>\n",
       "    </tr>\n",
       "    <tr>\n",
       "      <th>max</th>\n",
       "      <td>308.000000</td>\n",
       "      <td>2164.000000</td>\n",
       "      <td>9808.000000</td>\n",
       "      <td>9193.000000</td>\n",
       "      <td>500.000000</td>\n",
       "    </tr>\n",
       "  </tbody>\n",
       "</table>\n",
       "</div>"
      ],
      "text/plain": [
       "       playlist_id     owner_id         like       repost        size\n",
       "count   309.000000   309.000000   309.000000   309.000000  309.000000\n",
       "mean    154.000000  1944.207120   561.110032   496.792880  110.317152\n",
       "std      89.344838   345.646856  1683.387834  1409.731418  149.263918\n",
       "min       0.000000   124.000000     0.000000     0.000000    0.000000\n",
       "25%      77.000000  1948.000000     2.000000     0.000000    5.000000\n",
       "50%     154.000000  2013.000000    16.000000     2.000000   21.000000\n",
       "75%     231.000000  2090.000000   113.000000    90.000000  216.000000\n",
       "max     308.000000  2164.000000  9808.000000  9193.000000  500.000000"
      ]
     },
     "execution_count": 6,
     "metadata": {},
     "output_type": "execute_result"
    }
   ],
   "source": [
    "df_playlists.describe()"
   ]
  },
  {
   "cell_type": "markdown",
   "id": "c7aabc22",
   "metadata": {},
   "source": [
    "# Dữ liệu có bị duplicate không ?"
   ]
  },
  {
   "cell_type": "code",
   "execution_count": 7,
   "id": "f6dea81d",
   "metadata": {},
   "outputs": [
    {
     "name": "stdout",
     "output_type": "stream",
     "text": [
      "0\n"
     ]
    }
   ],
   "source": [
    "num_duplicated_rows = df_playlists.index.duplicated().sum()\n",
    "print(num_duplicated_rows)"
   ]
  },
  {
   "cell_type": "markdown",
   "id": "a2cf840d",
   "metadata": {},
   "source": [
    "# Dữ liệu có bị mất không ? "
   ]
  },
  {
   "cell_type": "code",
   "execution_count": 8,
   "id": "e64f51de",
   "metadata": {},
   "outputs": [
    {
     "data": {
      "text/plain": [
       "playlist_id        0\n",
       "playlist_name      0\n",
       "playlist_url       0\n",
       "owner_id           0\n",
       "username           0\n",
       "playlist_time      0\n",
       "playlist_tag     239\n",
       "like               0\n",
       "repost             0\n",
       "size               0\n",
       "tracks             0\n",
       "dtype: int64"
      ]
     },
     "execution_count": 8,
     "metadata": {},
     "output_type": "execute_result"
    }
   ],
   "source": [
    "df_playlists.isnull().sum()"
   ]
  },
  {
   "cell_type": "markdown",
   "id": "85b28bae",
   "metadata": {},
   "source": [
    "Cột playlist_tag bị mất dữ liệu"
   ]
  },
  {
   "cell_type": "markdown",
   "id": "7848551d",
   "metadata": {},
   "source": [
    "# Xử lý missing "
   ]
  },
  {
   "cell_type": "code",
   "execution_count": 9,
   "id": "1a229e24",
   "metadata": {},
   "outputs": [],
   "source": [
    "df_playlists = df_playlists.fillna(\"Missing\")"
   ]
  },
  {
   "cell_type": "code",
   "execution_count": 10,
   "id": "b42b3efa",
   "metadata": {},
   "outputs": [
    {
     "data": {
      "text/plain": [
       "playlist_id      0\n",
       "playlist_name    0\n",
       "playlist_url     0\n",
       "owner_id         0\n",
       "username         0\n",
       "playlist_time    0\n",
       "playlist_tag     0\n",
       "like             0\n",
       "repost           0\n",
       "size             0\n",
       "tracks           0\n",
       "dtype: int64"
      ]
     },
     "execution_count": 10,
     "metadata": {},
     "output_type": "execute_result"
    }
   ],
   "source": [
    "df_playlists.isnull().sum()"
   ]
  },
  {
   "cell_type": "markdown",
   "id": "3492fb5d",
   "metadata": {},
   "source": [
    "Missing đã được xử lý"
   ]
  },
  {
   "cell_type": "markdown",
   "id": "15323564",
   "metadata": {},
   "source": [
    "# Data Outliers"
   ]
  },
  {
   "cell_type": "markdown",
   "id": "b17b1e1e",
   "metadata": {},
   "source": [
    "- 3 cột được kiểm tra là: repost, like và size: "
   ]
  },
  {
   "cell_type": "markdown",
   "id": "60e5f3ee",
   "metadata": {},
   "source": [
    "- Cột repost"
   ]
  },
  {
   "cell_type": "code",
   "execution_count": 22,
   "id": "6531e70f",
   "metadata": {},
   "outputs": [
    {
     "data": {
      "text/plain": [
       "<seaborn.axisgrid.FacetGrid at 0x1bbe0cabac0>"
      ]
     },
     "execution_count": 22,
     "metadata": {},
     "output_type": "execute_result"
    },
    {
     "data": {
      "image/png": "[encoded data removed]",
      "text/plain": [
       "<Figure size 360x360 with 1 Axes>"
      ]
     },
     "metadata": {
      "needs_background": "light"
     },
     "output_type": "display_data"
    }
   ],
   "source": [
    "sns.displot(df_playlists['repost'])"
   ]
  },
  {
   "cell_type": "code",
   "execution_count": 23,
   "id": "3bd73b9d",
   "metadata": {},
   "outputs": [
    {
     "name": "stderr",
     "output_type": "stream",
     "text": [
      "C:\\Users\\Admin\\anaconda3\\lib\\site-packages\\seaborn\\_decorators.py:36: FutureWarning: Pass the following variable as a keyword arg: x. From version 0.12, the only valid positional argument will be `data`, and passing other arguments without an explicit keyword will result in an error or misinterpretation.\n",
      "  warnings.warn(\n"
     ]
    },
    {
     "data": {
      "text/plain": [
       "<AxesSubplot:xlabel='repost'>"
      ]
     },
     "execution_count": 23,
     "metadata": {},
     "output_type": "execute_result"
    },
    {
     "data": {
      "image/png": "[encoded data removed]",
      "text/plain": [
       "<Figure size 432x288 with 1 Axes>"
      ]
     },
     "metadata": {
      "needs_background": "light"
     },
     "output_type": "display_data"
    }
   ],
   "source": [
    "sns.boxplot(df_playlists['repost'])"
   ]
  },
  {
   "cell_type": "code",
   "execution_count": 24,
   "id": "5055f7bb",
   "metadata": {},
   "outputs": [
    {
     "name": "stdout",
     "output_type": "stream",
     "text": [
      "upper limit: 4725.987134632958\n",
      "lower limit: -3732.4013741151593\n"
     ]
    }
   ],
   "source": [
    "upper_limit = df_playlists['repost'].mean() + 3 * df_playlists['repost'].std()\n",
    "lower_limit = df_playlists['repost'].mean() - 3 * df_playlists['repost'].std()\n",
    "print('upper limit:', upper_limit)\n",
    "print('lower limit:', lower_limit)"
   ]
  },
  {
   "cell_type": "code",
   "execution_count": 27,
   "id": "157b4f66",
   "metadata": {},
   "outputs": [
    {
     "data": {
      "text/html": [
       "<div>\n",
       "<style scoped>\n",
       "    .dataframe tbody tr th:only-of-type {\n",
       "        vertical-align: middle;\n",
       "    }\n",
       "\n",
       "    .dataframe tbody tr th {\n",
       "        vertical-align: top;\n",
       "    }\n",
       "\n",
       "    .dataframe thead th {\n",
       "        text-align: right;\n",
       "    }\n",
       "</style>\n",
       "<table border=\"1\" class=\"dataframe\">\n",
       "  <thead>\n",
       "    <tr style=\"text-align: right;\">\n",
       "      <th></th>\n",
       "      <th>playlist_id</th>\n",
       "      <th>playlist_name</th>\n",
       "      <th>playlist_url</th>\n",
       "      <th>owner_id</th>\n",
       "      <th>username</th>\n",
       "      <th>playlist_time</th>\n",
       "      <th>playlist_tag</th>\n",
       "      <th>like</th>\n",
       "      <th>repost</th>\n",
       "      <th>size</th>\n",
       "      <th>tracks</th>\n",
       "    </tr>\n",
       "  </thead>\n",
       "  <tbody>\n",
       "    <tr>\n",
       "      <th>1</th>\n",
       "      <td>1</td>\n",
       "      <td>lofi 4 studying</td>\n",
       "      <td>https://www.soundcloud.com/suricolbert/sets/lo...</td>\n",
       "      <td>1894</td>\n",
       "      <td>suri</td>\n",
       "      <td>2017-02-20T01:17:24.000Z</td>\n",
       "      <td>Hip-hop &amp; Rap</td>\n",
       "      <td>210</td>\n",
       "      <td>8318</td>\n",
       "      <td>86</td>\n",
       "      <td>[0, 1, 2, 3, 4, 5, 6, 7, 8, 9, 10, 11, 12, 13,...</td>\n",
       "    </tr>\n",
       "    <tr>\n",
       "      <th>23</th>\n",
       "      <td>23</td>\n",
       "      <td>Piano Deep Concentration</td>\n",
       "      <td>https://www.soundcloud.com/nitza-md/sets/piano...</td>\n",
       "      <td>1915</td>\n",
       "      <td>Nitza Md</td>\n",
       "      <td>2016-04-07T10:38:15.000Z</td>\n",
       "      <td>Classical</td>\n",
       "      <td>161</td>\n",
       "      <td>8498</td>\n",
       "      <td>50</td>\n",
       "      <td>[503, 504, 505, 506, 507, 508, 509, 510, 511, ...</td>\n",
       "    </tr>\n",
       "    <tr>\n",
       "      <th>128</th>\n",
       "      <td>128</td>\n",
       "      <td>meditation</td>\n",
       "      <td>https://www.soundcloud.com/rehan-khan-55/sets/...</td>\n",
       "      <td>1996</td>\n",
       "      <td>Rehan Khan 55</td>\n",
       "      <td>2017-01-04T18:20:57.000Z</td>\n",
       "      <td>Missing</td>\n",
       "      <td>154</td>\n",
       "      <td>9193</td>\n",
       "      <td>12</td>\n",
       "      <td>[4148, 4149, 4150, 4151, 4152, 4153, 4154, 415...</td>\n",
       "    </tr>\n",
       "    <tr>\n",
       "      <th>24</th>\n",
       "      <td>24</td>\n",
       "      <td>pre work out 2017</td>\n",
       "      <td>https://www.soundcloud.com/user154907890/sets/...</td>\n",
       "      <td>1916</td>\n",
       "      <td>Raz</td>\n",
       "      <td>2017-01-28T10:09:12.000Z</td>\n",
       "      <td>Missing</td>\n",
       "      <td>132</td>\n",
       "      <td>7066</td>\n",
       "      <td>12</td>\n",
       "      <td>[553, 554, 555, 556, 557, 558, 559, 560, 561, ...</td>\n",
       "    </tr>\n",
       "    <tr>\n",
       "      <th>41</th>\n",
       "      <td>41</td>\n",
       "      <td>Sunday laziness and sunset views</td>\n",
       "      <td>https://www.soundcloud.com/user-876658341/sets...</td>\n",
       "      <td>1932</td>\n",
       "      <td>Omar</td>\n",
       "      <td>2018-01-16T10:03:49.000Z</td>\n",
       "      <td>Missing</td>\n",
       "      <td>123</td>\n",
       "      <td>8854</td>\n",
       "      <td>58</td>\n",
       "      <td>[865, 866, 867, 868, 869, 870, 871, 872, 873, ...</td>\n",
       "    </tr>\n",
       "    <tr>\n",
       "      <th>43</th>\n",
       "      <td>43</td>\n",
       "      <td>Sleep healing sounds</td>\n",
       "      <td>https://www.soundcloud.com/jean-claude-4/sets/...</td>\n",
       "      <td>1934</td>\n",
       "      <td>Jean Claude 5</td>\n",
       "      <td>2015-11-26T01:16:15.000Z</td>\n",
       "      <td>Missing</td>\n",
       "      <td>86</td>\n",
       "      <td>4846</td>\n",
       "      <td>15</td>\n",
       "      <td>[925, 926, 927, 928, 929, 930, 931, 932, 933, ...</td>\n",
       "    </tr>\n",
       "    <tr>\n",
       "      <th>3</th>\n",
       "      <td>3</td>\n",
       "      <td>Late Night Drive</td>\n",
       "      <td>https://www.soundcloud.com/lordafi/sets/sweg</td>\n",
       "      <td>1896</td>\n",
       "      <td>TMN Playlisted</td>\n",
       "      <td>2014-07-21T07:00:32.000Z</td>\n",
       "      <td>Dance &amp; EDM</td>\n",
       "      <td>75</td>\n",
       "      <td>5122</td>\n",
       "      <td>45</td>\n",
       "      <td>[219, 220, 221, 222, 223, 224, 225, 226, 227, ...</td>\n",
       "    </tr>\n",
       "    <tr>\n",
       "      <th>136</th>\n",
       "      <td>136</td>\n",
       "      <td>Members Only, Vol.2</td>\n",
       "      <td>https://www.soundcloud.com/members-only666/set...</td>\n",
       "      <td>2002</td>\n",
       "      <td>Members Only</td>\n",
       "      <td>2015-10-31T12:56:32.000Z</td>\n",
       "      <td>xxx</td>\n",
       "      <td>72</td>\n",
       "      <td>5703</td>\n",
       "      <td>20</td>\n",
       "      <td>[4239, 4240, 4241, 4242, 4243, 4244, 4245, 424...</td>\n",
       "    </tr>\n",
       "    <tr>\n",
       "      <th>137</th>\n",
       "      <td>137</td>\n",
       "      <td>Members Only Vol.1!</td>\n",
       "      <td>https://www.soundcloud.com/brainbakerymag/sets...</td>\n",
       "      <td>2003</td>\n",
       "      <td>Brain Bakery</td>\n",
       "      <td>2015-04-20T22:57:29.000Z</td>\n",
       "      <td>Missing</td>\n",
       "      <td>70</td>\n",
       "      <td>5705</td>\n",
       "      <td>2</td>\n",
       "      <td>[4259, 4260]</td>\n",
       "    </tr>\n",
       "    <tr>\n",
       "      <th>168</th>\n",
       "      <td>168</td>\n",
       "      <td>Mohamed Mounir محمد منير</td>\n",
       "      <td>https://www.soundcloud.com/annmagdy/sets/moham...</td>\n",
       "      <td>2033</td>\n",
       "      <td>Ann Magdy</td>\n",
       "      <td>2013-06-19T08:21:59.000Z</td>\n",
       "      <td>Mohamed</td>\n",
       "      <td>26</td>\n",
       "      <td>5512</td>\n",
       "      <td>148</td>\n",
       "      <td>[5594, 5595, 5596, 5597, 5598, 5599, 5600, 560...</td>\n",
       "    </tr>\n",
       "  </tbody>\n",
       "</table>\n",
       "</div>"
      ],
      "text/plain": [
       "     playlist_id                     playlist_name  \\\n",
       "1              1                   lofi 4 studying   \n",
       "23            23          Piano Deep Concentration   \n",
       "128          128                        meditation   \n",
       "24            24                 pre work out 2017   \n",
       "41            41  Sunday laziness and sunset views   \n",
       "43            43              Sleep healing sounds   \n",
       "3              3                  Late Night Drive   \n",
       "136          136               Members Only, Vol.2   \n",
       "137          137               Members Only Vol.1!   \n",
       "168          168          Mohamed Mounir محمد منير   \n",
       "\n",
       "                                          playlist_url  owner_id  \\\n",
       "1    https://www.soundcloud.com/suricolbert/sets/lo...      1894   \n",
       "23   https://www.soundcloud.com/nitza-md/sets/piano...      1915   \n",
       "128  https://www.soundcloud.com/rehan-khan-55/sets/...      1996   \n",
       "24   https://www.soundcloud.com/user154907890/sets/...      1916   \n",
       "41   https://www.soundcloud.com/user-876658341/sets...      1932   \n",
       "43   https://www.soundcloud.com/jean-claude-4/sets/...      1934   \n",
       "3         https://www.soundcloud.com/lordafi/sets/sweg      1896   \n",
       "136  https://www.soundcloud.com/members-only666/set...      2002   \n",
       "137  https://www.soundcloud.com/brainbakerymag/sets...      2003   \n",
       "168  https://www.soundcloud.com/annmagdy/sets/moham...      2033   \n",
       "\n",
       "           username             playlist_time   playlist_tag  like  repost  \\\n",
       "1              suri  2017-02-20T01:17:24.000Z  Hip-hop & Rap   210    8318   \n",
       "23         Nitza Md  2016-04-07T10:38:15.000Z      Classical   161    8498   \n",
       "128   Rehan Khan 55  2017-01-04T18:20:57.000Z        Missing   154    9193   \n",
       "24              Raz  2017-01-28T10:09:12.000Z        Missing   132    7066   \n",
       "41             Omar  2018-01-16T10:03:49.000Z        Missing   123    8854   \n",
       "43    Jean Claude 5  2015-11-26T01:16:15.000Z        Missing    86    4846   \n",
       "3    TMN Playlisted  2014-07-21T07:00:32.000Z    Dance & EDM    75    5122   \n",
       "136    Members Only  2015-10-31T12:56:32.000Z            xxx    72    5703   \n",
       "137    Brain Bakery  2015-04-20T22:57:29.000Z        Missing    70    5705   \n",
       "168       Ann Magdy  2013-06-19T08:21:59.000Z        Mohamed    26    5512   \n",
       "\n",
       "     size                                             tracks  \n",
       "1      86  [0, 1, 2, 3, 4, 5, 6, 7, 8, 9, 10, 11, 12, 13,...  \n",
       "23     50  [503, 504, 505, 506, 507, 508, 509, 510, 511, ...  \n",
       "128    12  [4148, 4149, 4150, 4151, 4152, 4153, 4154, 415...  \n",
       "24     12  [553, 554, 555, 556, 557, 558, 559, 560, 561, ...  \n",
       "41     58  [865, 866, 867, 868, 869, 870, 871, 872, 873, ...  \n",
       "43     15  [925, 926, 927, 928, 929, 930, 931, 932, 933, ...  \n",
       "3      45  [219, 220, 221, 222, 223, 224, 225, 226, 227, ...  \n",
       "136    20  [4239, 4240, 4241, 4242, 4243, 4244, 4245, 424...  \n",
       "137     2                                       [4259, 4260]  \n",
       "168   148  [5594, 5595, 5596, 5597, 5598, 5599, 5600, 560...  "
      ]
     },
     "execution_count": 27,
     "metadata": {},
     "output_type": "execute_result"
    }
   ],
   "source": [
    "# find ouliers\n",
    "df_playlists.loc[(df_playlists['repost'] > upper_limit) | (df_playlists['repost'] < lower_limit)]"
   ]
  },
  {
   "cell_type": "code",
   "execution_count": 34,
   "id": "494b08f3",
   "metadata": {},
   "outputs": [
    {
     "name": "stdout",
     "output_type": "stream",
     "text": [
      "Before remove outliers: 309\n",
      "After remove outliers: 303\n",
      "outliers: 6\n"
     ]
    }
   ],
   "source": [
    "#remove outliers\n",
    "df_playlists_new = df_playlists.loc[(df_playlists['repost'] <= upper_limit) & (df_playlists['repost'] >= lower_limit)]\n",
    "print('Before remove outliers:', len(df_playlists))\n",
    "print('After remove outliers:',len(df_playlists_new))\n",
    "print('outliers:', len(df_playlists)-len(df_playlists_new))"
   ]
  },
  {
   "cell_type": "markdown",
   "id": "b21d9016",
   "metadata": {},
   "source": [
    "- Cột like"
   ]
  },
  {
   "cell_type": "code",
   "execution_count": 35,
   "id": "d3173a76",
   "metadata": {},
   "outputs": [
    {
     "data": {
      "text/plain": [
       "<seaborn.axisgrid.FacetGrid at 0x1bbe2421f40>"
      ]
     },
     "execution_count": 35,
     "metadata": {},
     "output_type": "execute_result"
    },
    {
     "data": {
      "image/png": "[encoded data removed]",
      "text/plain": [
       "<Figure size 360x360 with 1 Axes>"
      ]
     },
     "metadata": {
      "needs_background": "light"
     },
     "output_type": "display_data"
    }
   ],
   "source": [
    "sns.displot(df_playlists_new['like'])"
   ]
  },
  {
   "cell_type": "code",
   "execution_count": 36,
   "id": "dca89ef0",
   "metadata": {},
   "outputs": [
    {
     "name": "stderr",
     "output_type": "stream",
     "text": [
      "C:\\Users\\Admin\\anaconda3\\lib\\site-packages\\seaborn\\_decorators.py:36: FutureWarning: Pass the following variable as a keyword arg: x. From version 0.12, the only valid positional argument will be `data`, and passing other arguments without an explicit keyword will result in an error or misinterpretation.\n",
      "  warnings.warn(\n"
     ]
    },
    {
     "data": {
      "text/plain": [
       "<AxesSubplot:xlabel='like'>"
      ]
     },
     "execution_count": 36,
     "metadata": {},
     "output_type": "execute_result"
    },
    {
     "data": {
      "image/png": "[encoded data removed]",
      "text/plain": [
       "<Figure size 432x288 with 1 Axes>"
      ]
     },
     "metadata": {
      "needs_background": "light"
     },
     "output_type": "display_data"
    }
   ],
   "source": [
    "sns.boxplot(df_playlists_new['like'])"
   ]
  },
  {
   "cell_type": "code",
   "execution_count": 37,
   "id": "dc421aa3",
   "metadata": {},
   "outputs": [
    {
     "name": "stdout",
     "output_type": "stream",
     "text": [
      "upper limit: 5666.322179095486\n",
      "lower limit: -4527.490495927169\n"
     ]
    }
   ],
   "source": [
    "# find the limits\n",
    "upper_limit = df_playlists_new['like'].mean() + 3*df_playlists_new['like'].std()\n",
    "lower_limit = df_playlists_new['like'].mean() - 3*df_playlists_new['like'].std()\n",
    "print('upper limit:', upper_limit)\n",
    "print('lower limit:', lower_limit)"
   ]
  },
  {
   "cell_type": "code",
   "execution_count": 38,
   "id": "49b50709",
   "metadata": {},
   "outputs": [
    {
     "data": {
      "text/html": [
       "<div>\n",
       "<style scoped>\n",
       "    .dataframe tbody tr th:only-of-type {\n",
       "        vertical-align: middle;\n",
       "    }\n",
       "\n",
       "    .dataframe tbody tr th {\n",
       "        vertical-align: top;\n",
       "    }\n",
       "\n",
       "    .dataframe thead th {\n",
       "        text-align: right;\n",
       "    }\n",
       "</style>\n",
       "<table border=\"1\" class=\"dataframe\">\n",
       "  <thead>\n",
       "    <tr style=\"text-align: right;\">\n",
       "      <th></th>\n",
       "      <th>playlist_id</th>\n",
       "      <th>playlist_name</th>\n",
       "      <th>playlist_url</th>\n",
       "      <th>owner_id</th>\n",
       "      <th>username</th>\n",
       "      <th>playlist_time</th>\n",
       "      <th>playlist_tag</th>\n",
       "      <th>like</th>\n",
       "      <th>repost</th>\n",
       "      <th>size</th>\n",
       "      <th>tracks</th>\n",
       "    </tr>\n",
       "  </thead>\n",
       "  <tbody>\n",
       "    <tr>\n",
       "      <th>104</th>\n",
       "      <td>104</td>\n",
       "      <td>TalkToMeInKorean Level 1</td>\n",
       "      <td>https://www.soundcloud.com/talktomeinkorean/se...</td>\n",
       "      <td>864</td>\n",
       "      <td>TalkToMeInKorean</td>\n",
       "      <td>2013-01-23T08:58:51.000Z</td>\n",
       "      <td>Education</td>\n",
       "      <td>9808</td>\n",
       "      <td>918</td>\n",
       "      <td>26</td>\n",
       "      <td>[2776, 2777, 2778, 2779, 2780, 2781, 2782, 278...</td>\n",
       "    </tr>\n",
       "    <tr>\n",
       "      <th>203</th>\n",
       "      <td>203</td>\n",
       "      <td>reFresh Playlist</td>\n",
       "      <td>https://www.soundcloud.com/coors-light/sets/re...</td>\n",
       "      <td>2063</td>\n",
       "      <td>Coors Light</td>\n",
       "      <td>2015-12-16T14:05:21.000Z</td>\n",
       "      <td>Missing</td>\n",
       "      <td>9695</td>\n",
       "      <td>3169</td>\n",
       "      <td>10</td>\n",
       "      <td>[7695, 7696, 7697, 7698, 7699, 7700, 7701, 770...</td>\n",
       "    </tr>\n",
       "    <tr>\n",
       "      <th>161</th>\n",
       "      <td>161</td>\n",
       "      <td>Music Is Elation - Hip Hops Reincarnation Vol....</td>\n",
       "      <td>https://www.soundcloud.com/music-is-elation/se...</td>\n",
       "      <td>2026</td>\n",
       "      <td>Music Is Elation</td>\n",
       "      <td>2016-01-17T16:09:02.000Z</td>\n",
       "      <td>Hip Hop</td>\n",
       "      <td>9605</td>\n",
       "      <td>2258</td>\n",
       "      <td>28</td>\n",
       "      <td>[4821, 4822, 1357, 4823, 4824, 4825, 4826, 482...</td>\n",
       "    </tr>\n",
       "    <tr>\n",
       "      <th>217</th>\n",
       "      <td>217</td>\n",
       "      <td>𝙍𝙀𝙈𝙄𝙓𝙀𝙎 𝙊𝙁 𝙋𝙊𝙋𝙐𝙇𝘼𝙍 𝙎𝙊𝙉𝙂𝙎</td>\n",
       "      <td>https://www.soundcloud.com/hardstyle-zyzz/sets...</td>\n",
       "      <td>2076</td>\n",
       "      <td>𝙃𝘼𝙍𝘿𝙎𝙏𝙔𝙇𝙀</td>\n",
       "      <td>2018-05-30T02:07:05.000Z</td>\n",
       "      <td>Missing</td>\n",
       "      <td>9162</td>\n",
       "      <td>221</td>\n",
       "      <td>211</td>\n",
       "      <td>[7445, 7448, 7449, 7447, 9342, 7450, 3394, 339...</td>\n",
       "    </tr>\n",
       "    <tr>\n",
       "      <th>110</th>\n",
       "      <td>110</td>\n",
       "      <td>These sounds FREE YOU FROM anxiety AND cultiva...</td>\n",
       "      <td>https://www.soundcloud.com/relaxmeditation/set...</td>\n",
       "      <td>1980</td>\n",
       "      <td>Relax-Meditation Music :)</td>\n",
       "      <td>2013-11-17T12:51:00.000Z</td>\n",
       "      <td>Pop</td>\n",
       "      <td>8895</td>\n",
       "      <td>1780</td>\n",
       "      <td>9</td>\n",
       "      <td>[2853, 615, 2854, 2855, 2856, 2857, 2858, 2859...</td>\n",
       "    </tr>\n",
       "    <tr>\n",
       "      <th>134</th>\n",
       "      <td>134</td>\n",
       "      <td>Mindfulness: A practical guide to finding peac...</td>\n",
       "      <td>https://www.soundcloud.com/hachetteaudiouk/set...</td>\n",
       "      <td>182</td>\n",
       "      <td>Hachette Audio UK</td>\n",
       "      <td>2016-10-25T10:53:47.000Z</td>\n",
       "      <td>Audiobooks</td>\n",
       "      <td>8190</td>\n",
       "      <td>258</td>\n",
       "      <td>10</td>\n",
       "      <td>[4218, 4219, 4220, 4221, 4222, 4223, 4224, 422...</td>\n",
       "    </tr>\n",
       "    <tr>\n",
       "      <th>100</th>\n",
       "      <td>100</td>\n",
       "      <td>The best of Nusrat - vol1</td>\n",
       "      <td>https://www.soundcloud.com/nusrat-fateh-ali-kh...</td>\n",
       "      <td>538</td>\n",
       "      <td>Nusrat Fateh Ali Khan</td>\n",
       "      <td>2013-06-07T01:36:49.000Z</td>\n",
       "      <td>Qawali</td>\n",
       "      <td>7172</td>\n",
       "      <td>1196</td>\n",
       "      <td>5</td>\n",
       "      <td>[2733, 2734, 2735, 2736, 2737]</td>\n",
       "    </tr>\n",
       "    <tr>\n",
       "      <th>84</th>\n",
       "      <td>84</td>\n",
       "      <td>Solar System &amp; Beyond Sounds</td>\n",
       "      <td>https://www.soundcloud.com/nasa/sets/solar-sys...</td>\n",
       "      <td>521</td>\n",
       "      <td>NASA</td>\n",
       "      <td>2014-10-16T19:37:22.000Z</td>\n",
       "      <td>nasa</td>\n",
       "      <td>7003</td>\n",
       "      <td>1009</td>\n",
       "      <td>27</td>\n",
       "      <td>[1253, 1738, 1739, 1740, 1252, 1249, 1251, 125...</td>\n",
       "    </tr>\n",
       "    <tr>\n",
       "      <th>167</th>\n",
       "      <td>167</td>\n",
       "      <td>Maybe I Was Boring</td>\n",
       "      <td>https://www.soundcloud.com/wilbur-soot/sets/ma...</td>\n",
       "      <td>2032</td>\n",
       "      <td>wilbur</td>\n",
       "      <td>2019-12-28T00:07:33.000Z</td>\n",
       "      <td>Folk &amp; Singer-Songwriter</td>\n",
       "      <td>6805</td>\n",
       "      <td>261</td>\n",
       "      <td>3</td>\n",
       "      <td>[5591, 5592, 5593]</td>\n",
       "    </tr>\n",
       "    <tr>\n",
       "      <th>45</th>\n",
       "      <td>45</td>\n",
       "      <td>sertanejo</td>\n",
       "      <td>https://www.soundcloud.com/maycon-amaral-reis/...</td>\n",
       "      <td>1936</td>\n",
       "      <td>Maycon Amaral Reis</td>\n",
       "      <td>2016-10-05T12:19:51.000Z</td>\n",
       "      <td>Missing</td>\n",
       "      <td>6741</td>\n",
       "      <td>646</td>\n",
       "      <td>58</td>\n",
       "      <td>[950, 951, 952, 953, 954, 955, 956, 957, 958, ...</td>\n",
       "    </tr>\n",
       "    <tr>\n",
       "      <th>218</th>\n",
       "      <td>218</td>\n",
       "      <td>Rock - ACDC, Metalica &amp; Guns And Roses</td>\n",
       "      <td>https://www.soundcloud.com/radio_blullying/set...</td>\n",
       "      <td>2077</td>\n",
       "      <td>Radio Bullying</td>\n",
       "      <td>2015-02-01T19:49:51.000Z</td>\n",
       "      <td>Missing</td>\n",
       "      <td>6325</td>\n",
       "      <td>1225</td>\n",
       "      <td>2</td>\n",
       "      <td>[9343, 9344]</td>\n",
       "    </tr>\n",
       "  </tbody>\n",
       "</table>\n",
       "</div>"
      ],
      "text/plain": [
       "     playlist_id                                      playlist_name  \\\n",
       "104          104                           TalkToMeInKorean Level 1   \n",
       "203          203                                   reFresh Playlist   \n",
       "161          161  Music Is Elation - Hip Hops Reincarnation Vol....   \n",
       "217          217                           𝙍𝙀𝙈𝙄𝙓𝙀𝙎 𝙊𝙁 𝙋𝙊𝙋𝙐𝙇𝘼𝙍 𝙎𝙊𝙉𝙂𝙎   \n",
       "110          110  These sounds FREE YOU FROM anxiety AND cultiva...   \n",
       "134          134  Mindfulness: A practical guide to finding peac...   \n",
       "100          100                          The best of Nusrat - vol1   \n",
       "84            84                       Solar System & Beyond Sounds   \n",
       "167          167                                 Maybe I Was Boring   \n",
       "45            45                                          sertanejo   \n",
       "218          218             Rock - ACDC, Metalica & Guns And Roses   \n",
       "\n",
       "                                          playlist_url  owner_id  \\\n",
       "104  https://www.soundcloud.com/talktomeinkorean/se...       864   \n",
       "203  https://www.soundcloud.com/coors-light/sets/re...      2063   \n",
       "161  https://www.soundcloud.com/music-is-elation/se...      2026   \n",
       "217  https://www.soundcloud.com/hardstyle-zyzz/sets...      2076   \n",
       "110  https://www.soundcloud.com/relaxmeditation/set...      1980   \n",
       "134  https://www.soundcloud.com/hachetteaudiouk/set...       182   \n",
       "100  https://www.soundcloud.com/nusrat-fateh-ali-kh...       538   \n",
       "84   https://www.soundcloud.com/nasa/sets/solar-sys...       521   \n",
       "167  https://www.soundcloud.com/wilbur-soot/sets/ma...      2032   \n",
       "45   https://www.soundcloud.com/maycon-amaral-reis/...      1936   \n",
       "218  https://www.soundcloud.com/radio_blullying/set...      2077   \n",
       "\n",
       "                      username             playlist_time  \\\n",
       "104           TalkToMeInKorean  2013-01-23T08:58:51.000Z   \n",
       "203                Coors Light  2015-12-16T14:05:21.000Z   \n",
       "161           Music Is Elation  2016-01-17T16:09:02.000Z   \n",
       "217                  𝙃𝘼𝙍𝘿𝙎𝙏𝙔𝙇𝙀  2018-05-30T02:07:05.000Z   \n",
       "110  Relax-Meditation Music :)  2013-11-17T12:51:00.000Z   \n",
       "134          Hachette Audio UK  2016-10-25T10:53:47.000Z   \n",
       "100      Nusrat Fateh Ali Khan  2013-06-07T01:36:49.000Z   \n",
       "84                        NASA  2014-10-16T19:37:22.000Z   \n",
       "167                     wilbur  2019-12-28T00:07:33.000Z   \n",
       "45          Maycon Amaral Reis  2016-10-05T12:19:51.000Z   \n",
       "218             Radio Bullying  2015-02-01T19:49:51.000Z   \n",
       "\n",
       "                 playlist_tag  like  repost  size  \\\n",
       "104                 Education  9808     918    26   \n",
       "203                   Missing  9695    3169    10   \n",
       "161                   Hip Hop  9605    2258    28   \n",
       "217                   Missing  9162     221   211   \n",
       "110                       Pop  8895    1780     9   \n",
       "134                Audiobooks  8190     258    10   \n",
       "100                    Qawali  7172    1196     5   \n",
       "84                       nasa  7003    1009    27   \n",
       "167  Folk & Singer-Songwriter  6805     261     3   \n",
       "45                    Missing  6741     646    58   \n",
       "218                   Missing  6325    1225     2   \n",
       "\n",
       "                                                tracks  \n",
       "104  [2776, 2777, 2778, 2779, 2780, 2781, 2782, 278...  \n",
       "203  [7695, 7696, 7697, 7698, 7699, 7700, 7701, 770...  \n",
       "161  [4821, 4822, 1357, 4823, 4824, 4825, 4826, 482...  \n",
       "217  [7445, 7448, 7449, 7447, 9342, 7450, 3394, 339...  \n",
       "110  [2853, 615, 2854, 2855, 2856, 2857, 2858, 2859...  \n",
       "134  [4218, 4219, 4220, 4221, 4222, 4223, 4224, 422...  \n",
       "100                     [2733, 2734, 2735, 2736, 2737]  \n",
       "84   [1253, 1738, 1739, 1740, 1252, 1249, 1251, 125...  \n",
       "167                                 [5591, 5592, 5593]  \n",
       "45   [950, 951, 952, 953, 954, 955, 956, 957, 958, ...  \n",
       "218                                       [9343, 9344]  "
      ]
     },
     "execution_count": 38,
     "metadata": {},
     "output_type": "execute_result"
    }
   ],
   "source": [
    "# find outliers\n",
    "df_playlists_new.loc[(df_playlists_new['like'] > upper_limit) | (df_playlists_new['like'] < lower_limit)]"
   ]
  },
  {
   "cell_type": "code",
   "execution_count": 40,
   "id": "76dcc076",
   "metadata": {},
   "outputs": [
    {
     "name": "stdout",
     "output_type": "stream",
     "text": [
      "Before remove outliers: 303\n",
      "After remove outliers: 292\n",
      "outliers: 11\n"
     ]
    }
   ],
   "source": [
    "#remove outliers\n",
    "df_playlists_neww = df_playlists_new.loc[(df_playlists_new['like'] <= upper_limit) & (df_playlists_new['like'] >= lower_limit)]\n",
    "print('Before remove outliers:', len(df_playlists_new))\n",
    "print('After remove outliers:',len(df_playlists_neww))\n",
    "print('outliers:', len(df_playlists_new)-len(df_playlists_neww))"
   ]
  },
  {
   "cell_type": "code",
   "execution_count": 41,
   "id": "34a8f724",
   "metadata": {},
   "outputs": [
    {
     "data": {
      "text/html": [
       "<div>\n",
       "<style scoped>\n",
       "    .dataframe tbody tr th:only-of-type {\n",
       "        vertical-align: middle;\n",
       "    }\n",
       "\n",
       "    .dataframe tbody tr th {\n",
       "        vertical-align: top;\n",
       "    }\n",
       "\n",
       "    .dataframe thead th {\n",
       "        text-align: right;\n",
       "    }\n",
       "</style>\n",
       "<table border=\"1\" class=\"dataframe\">\n",
       "  <thead>\n",
       "    <tr style=\"text-align: right;\">\n",
       "      <th></th>\n",
       "      <th>playlist_id</th>\n",
       "      <th>playlist_name</th>\n",
       "      <th>playlist_url</th>\n",
       "      <th>owner_id</th>\n",
       "      <th>username</th>\n",
       "      <th>playlist_time</th>\n",
       "      <th>playlist_tag</th>\n",
       "      <th>like</th>\n",
       "      <th>repost</th>\n",
       "      <th>size</th>\n",
       "      <th>tracks</th>\n",
       "    </tr>\n",
       "  </thead>\n",
       "  <tbody>\n",
       "    <tr>\n",
       "      <th>208</th>\n",
       "      <td>208</td>\n",
       "      <td>Ravi 1st MIXTAPE [R.EBIRTH]</td>\n",
       "      <td>https://www.soundcloud.com/ravi930215/sets/rav...</td>\n",
       "      <td>2068</td>\n",
       "      <td>RAVI</td>\n",
       "      <td>2016-03-11T06:57:11.000Z</td>\n",
       "      <td>Hip-hop &amp; Rap</td>\n",
       "      <td>5222</td>\n",
       "      <td>1370</td>\n",
       "      <td>10</td>\n",
       "      <td>[8496, 8497, 8498, 8499, 8500, 8501, 8502, 850...</td>\n",
       "    </tr>\n",
       "    <tr>\n",
       "      <th>78</th>\n",
       "      <td>78</td>\n",
       "      <td>Sinister Sounds of the Solar System and Beyond</td>\n",
       "      <td>https://www.soundcloud.com/nasa/sets/sinister-...</td>\n",
       "      <td>521</td>\n",
       "      <td>NASA</td>\n",
       "      <td>2020-10-28T15:21:38.000Z</td>\n",
       "      <td>Missing</td>\n",
       "      <td>5040</td>\n",
       "      <td>273</td>\n",
       "      <td>27</td>\n",
       "      <td>[1270, 1594, 1595, 1596, 1597, 1251, 1598, 159...</td>\n",
       "    </tr>\n",
       "    <tr>\n",
       "      <th>38</th>\n",
       "      <td>38</td>\n",
       "      <td>Payung Teduh</td>\n",
       "      <td>https://www.soundcloud.com/payung-teduh-offici...</td>\n",
       "      <td>997</td>\n",
       "      <td>Payung teduh Official</td>\n",
       "      <td>2013-12-19T18:15:33.000Z</td>\n",
       "      <td>Payung Teduh</td>\n",
       "      <td>4957</td>\n",
       "      <td>1456</td>\n",
       "      <td>5</td>\n",
       "      <td>[850, 851, 852, 853, 854]</td>\n",
       "    </tr>\n",
       "    <tr>\n",
       "      <th>79</th>\n",
       "      <td>79</td>\n",
       "      <td>Serial podcast</td>\n",
       "      <td>https://www.soundcloud.com/serial/sets/serial-...</td>\n",
       "      <td>951</td>\n",
       "      <td>Serial Podcast</td>\n",
       "      <td>2014-11-18T17:31:20.000Z</td>\n",
       "      <td>Missing</td>\n",
       "      <td>3966</td>\n",
       "      <td>691</td>\n",
       "      <td>0</td>\n",
       "      <td>[]</td>\n",
       "    </tr>\n",
       "    <tr>\n",
       "      <th>199</th>\n",
       "      <td>199</td>\n",
       "      <td>real_pcy</td>\n",
       "      <td>https://www.soundcloud.com/user-632488410/sets...</td>\n",
       "      <td>2061</td>\n",
       "      <td>real_pcy</td>\n",
       "      <td>2015-09-19T08:40:22.000Z</td>\n",
       "      <td>Missing</td>\n",
       "      <td>3938</td>\n",
       "      <td>592</td>\n",
       "      <td>1</td>\n",
       "      <td>[7693]</td>\n",
       "    </tr>\n",
       "  </tbody>\n",
       "</table>\n",
       "</div>"
      ],
      "text/plain": [
       "     playlist_id                                   playlist_name  \\\n",
       "208          208                     Ravi 1st MIXTAPE [R.EBIRTH]   \n",
       "78            78  Sinister Sounds of the Solar System and Beyond   \n",
       "38            38                                    Payung Teduh   \n",
       "79            79                                  Serial podcast   \n",
       "199          199                                        real_pcy   \n",
       "\n",
       "                                          playlist_url  owner_id  \\\n",
       "208  https://www.soundcloud.com/ravi930215/sets/rav...      2068   \n",
       "78   https://www.soundcloud.com/nasa/sets/sinister-...       521   \n",
       "38   https://www.soundcloud.com/payung-teduh-offici...       997   \n",
       "79   https://www.soundcloud.com/serial/sets/serial-...       951   \n",
       "199  https://www.soundcloud.com/user-632488410/sets...      2061   \n",
       "\n",
       "                  username             playlist_time   playlist_tag  like  \\\n",
       "208                   RAVI  2016-03-11T06:57:11.000Z  Hip-hop & Rap  5222   \n",
       "78                    NASA  2020-10-28T15:21:38.000Z        Missing  5040   \n",
       "38   Payung teduh Official  2013-12-19T18:15:33.000Z   Payung Teduh  4957   \n",
       "79          Serial Podcast  2014-11-18T17:31:20.000Z        Missing  3966   \n",
       "199               real_pcy  2015-09-19T08:40:22.000Z        Missing  3938   \n",
       "\n",
       "     repost  size                                             tracks  \n",
       "208    1370    10  [8496, 8497, 8498, 8499, 8500, 8501, 8502, 850...  \n",
       "78      273    27  [1270, 1594, 1595, 1596, 1597, 1251, 1598, 159...  \n",
       "38     1456     5                          [850, 851, 852, 853, 854]  \n",
       "79      691     0                                                 []  \n",
       "199     592     1                                             [7693]  "
      ]
     },
     "execution_count": 41,
     "metadata": {},
     "output_type": "execute_result"
    }
   ],
   "source": [
    "df_playlists_neww.head(5)"
   ]
  },
  {
   "cell_type": "markdown",
   "id": "dcde5323",
   "metadata": {},
   "source": [
    "- size"
   ]
  },
  {
   "cell_type": "code",
   "execution_count": 42,
   "id": "abf6ffaf",
   "metadata": {},
   "outputs": [
    {
     "data": {
      "text/plain": [
       "<seaborn.axisgrid.FacetGrid at 0x1bbe27b08b0>"
      ]
     },
     "execution_count": 42,
     "metadata": {},
     "output_type": "execute_result"
    },
    {
     "data": {
      "image/png": "[encoded data removed]",
      "text/plain": [
       "<Figure size 360x360 with 1 Axes>"
      ]
     },
     "metadata": {
      "needs_background": "light"
     },
     "output_type": "display_data"
    }
   ],
   "source": [
    "sns.displot(df_playlists_neww['size'])"
   ]
  },
  {
   "cell_type": "code",
   "execution_count": 43,
   "id": "2a1f9995",
   "metadata": {},
   "outputs": [
    {
     "name": "stderr",
     "output_type": "stream",
     "text": [
      "C:\\Users\\Admin\\anaconda3\\lib\\site-packages\\seaborn\\_decorators.py:36: FutureWarning: Pass the following variable as a keyword arg: x. From version 0.12, the only valid positional argument will be `data`, and passing other arguments without an explicit keyword will result in an error or misinterpretation.\n",
      "  warnings.warn(\n"
     ]
    },
    {
     "data": {
      "text/plain": [
       "<AxesSubplot:xlabel='size'>"
      ]
     },
     "execution_count": 43,
     "metadata": {},
     "output_type": "execute_result"
    },
    {
     "data": {
      "image/png": "[encoded data removed]",
      "text/plain": [
       "<Figure size 432x288 with 1 Axes>"
      ]
     },
     "metadata": {
      "needs_background": "light"
     },
     "output_type": "display_data"
    }
   ],
   "source": [
    "sns.boxplot(df_playlists_neww['size'])"
   ]
  },
  {
   "cell_type": "code",
   "execution_count": 44,
   "id": "49254578",
   "metadata": {},
   "outputs": [
    {
     "name": "stdout",
     "output_type": "stream",
     "text": [
      "upper limit: 570.5499897621563\n",
      "lower limit: -341.2417705840742\n"
     ]
    }
   ],
   "source": [
    "# find the limits\n",
    "upper_limit = df_playlists_neww['size'].mean() + 3 * df_playlists_neww['size'].std()\n",
    "lower_limit = df_playlists_neww['size'].mean() - 3 * df_playlists_neww['size'].std()\n",
    "print('upper limit:', upper_limit)\n",
    "print('lower limit:', lower_limit)"
   ]
  },
  {
   "cell_type": "code",
   "execution_count": 47,
   "id": "70592ed0",
   "metadata": {},
   "outputs": [
    {
     "data": {
      "text/html": [
       "<div>\n",
       "<style scoped>\n",
       "    .dataframe tbody tr th:only-of-type {\n",
       "        vertical-align: middle;\n",
       "    }\n",
       "\n",
       "    .dataframe tbody tr th {\n",
       "        vertical-align: top;\n",
       "    }\n",
       "\n",
       "    .dataframe thead th {\n",
       "        text-align: right;\n",
       "    }\n",
       "</style>\n",
       "<table border=\"1\" class=\"dataframe\">\n",
       "  <thead>\n",
       "    <tr style=\"text-align: right;\">\n",
       "      <th></th>\n",
       "      <th>playlist_id</th>\n",
       "      <th>playlist_name</th>\n",
       "      <th>playlist_url</th>\n",
       "      <th>owner_id</th>\n",
       "      <th>username</th>\n",
       "      <th>playlist_time</th>\n",
       "      <th>playlist_tag</th>\n",
       "      <th>like</th>\n",
       "      <th>repost</th>\n",
       "      <th>size</th>\n",
       "      <th>tracks</th>\n",
       "    </tr>\n",
       "  </thead>\n",
       "  <tbody>\n",
       "  </tbody>\n",
       "</table>\n",
       "</div>"
      ],
      "text/plain": [
       "Empty DataFrame\n",
       "Columns: [playlist_id, playlist_name, playlist_url, owner_id, username, playlist_time, playlist_tag, like, repost, size, tracks]\n",
       "Index: []"
      ]
     },
     "execution_count": 47,
     "metadata": {},
     "output_type": "execute_result"
    }
   ],
   "source": [
    "#find outliers\n",
    "df_playlists_neww.loc[(df_playlists_neww['size'] > upper_limit) | (df_playlists_neww['size'] < lower_limit)]"
   ]
  },
  {
   "cell_type": "code",
   "execution_count": 48,
   "id": "5725201f",
   "metadata": {},
   "outputs": [
    {
     "data": {
      "text/plain": [
       "(292, 11)"
      ]
     },
     "execution_count": 48,
     "metadata": {},
     "output_type": "execute_result"
    }
   ],
   "source": [
    "df_playlists_neww.shape"
   ]
  },
  {
   "cell_type": "markdown",
   "id": "73b943a9",
   "metadata": {},
   "source": [
    "# Quan sát số lượt like của các playlist"
   ]
  },
  {
   "cell_type": "code",
   "execution_count": 52,
   "id": "7404e734",
   "metadata": {},
   "outputs": [
    {
     "data": {
      "text/plain": [
       "<AxesSubplot:title={'center':'Biểu đồ phân bố số lượt like của các playlist'}, xlabel='like', ylabel='Count'>"
      ]
     },
     "execution_count": 52,
     "metadata": {},
     "output_type": "execute_result"
    },
    {
     "data": {
      "image/png": "[encoded data removed]",
      "text/plain": [
       "<Figure size 1440x360 with 1 Axes>"
      ]
     },
     "metadata": {
      "needs_background": "light"
     },
     "output_type": "display_data"
    }
   ],
   "source": [
    "plt.figure(figsize=(20,5))\n",
    "plt.title(\"Biểu đồ phân bố số lượt like của các playlist\")\n",
    "sns.histplot(data=df_playlists, x='like')"
   ]
  },
  {
   "cell_type": "markdown",
   "id": "59268f19",
   "metadata": {},
   "source": [
    "Ta có thể quan sát được số lượng lượt thích đa số nằm ở khu vực dưới 2000 , vậy nên số lượng playlists có lượt thích (like) cao là không nhiều."
   ]
  },
  {
   "cell_type": "markdown",
   "id": "0f9e1f3d",
   "metadata": {},
   "source": [
    "# Top 5 playlist có lượt thích cao nhất "
   ]
  },
  {
   "cell_type": "code",
   "execution_count": 53,
   "id": "12c950f8",
   "metadata": {},
   "outputs": [
    {
     "data": {
      "text/html": [
       "<div>\n",
       "<style scoped>\n",
       "    .dataframe tbody tr th:only-of-type {\n",
       "        vertical-align: middle;\n",
       "    }\n",
       "\n",
       "    .dataframe tbody tr th {\n",
       "        vertical-align: top;\n",
       "    }\n",
       "\n",
       "    .dataframe thead th {\n",
       "        text-align: right;\n",
       "    }\n",
       "</style>\n",
       "<table border=\"1\" class=\"dataframe\">\n",
       "  <thead>\n",
       "    <tr style=\"text-align: right;\">\n",
       "      <th></th>\n",
       "      <th>playlist_id</th>\n",
       "      <th>playlist_name</th>\n",
       "      <th>playlist_url</th>\n",
       "      <th>owner_id</th>\n",
       "      <th>username</th>\n",
       "      <th>playlist_time</th>\n",
       "      <th>playlist_tag</th>\n",
       "      <th>like</th>\n",
       "      <th>repost</th>\n",
       "      <th>size</th>\n",
       "      <th>tracks</th>\n",
       "    </tr>\n",
       "  </thead>\n",
       "  <tbody>\n",
       "    <tr>\n",
       "      <th>104</th>\n",
       "      <td>104</td>\n",
       "      <td>TalkToMeInKorean Level 1</td>\n",
       "      <td>https://www.soundcloud.com/talktomeinkorean/se...</td>\n",
       "      <td>864</td>\n",
       "      <td>TalkToMeInKorean</td>\n",
       "      <td>2013-01-23T08:58:51.000Z</td>\n",
       "      <td>Education</td>\n",
       "      <td>9808</td>\n",
       "      <td>918</td>\n",
       "      <td>26</td>\n",
       "      <td>[2776, 2777, 2778, 2779, 2780, 2781, 2782, 278...</td>\n",
       "    </tr>\n",
       "    <tr>\n",
       "      <th>203</th>\n",
       "      <td>203</td>\n",
       "      <td>reFresh Playlist</td>\n",
       "      <td>https://www.soundcloud.com/coors-light/sets/re...</td>\n",
       "      <td>2063</td>\n",
       "      <td>Coors Light</td>\n",
       "      <td>2015-12-16T14:05:21.000Z</td>\n",
       "      <td>Missing</td>\n",
       "      <td>9695</td>\n",
       "      <td>3169</td>\n",
       "      <td>10</td>\n",
       "      <td>[7695, 7696, 7697, 7698, 7699, 7700, 7701, 770...</td>\n",
       "    </tr>\n",
       "    <tr>\n",
       "      <th>161</th>\n",
       "      <td>161</td>\n",
       "      <td>Music Is Elation - Hip Hops Reincarnation Vol....</td>\n",
       "      <td>https://www.soundcloud.com/music-is-elation/se...</td>\n",
       "      <td>2026</td>\n",
       "      <td>Music Is Elation</td>\n",
       "      <td>2016-01-17T16:09:02.000Z</td>\n",
       "      <td>Hip Hop</td>\n",
       "      <td>9605</td>\n",
       "      <td>2258</td>\n",
       "      <td>28</td>\n",
       "      <td>[4821, 4822, 1357, 4823, 4824, 4825, 4826, 482...</td>\n",
       "    </tr>\n",
       "    <tr>\n",
       "      <th>217</th>\n",
       "      <td>217</td>\n",
       "      <td>𝙍𝙀𝙈𝙄𝙓𝙀𝙎 𝙊𝙁 𝙋𝙊𝙋𝙐𝙇𝘼𝙍 𝙎𝙊𝙉𝙂𝙎</td>\n",
       "      <td>https://www.soundcloud.com/hardstyle-zyzz/sets...</td>\n",
       "      <td>2076</td>\n",
       "      <td>𝙃𝘼𝙍𝘿𝙎𝙏𝙔𝙇𝙀</td>\n",
       "      <td>2018-05-30T02:07:05.000Z</td>\n",
       "      <td>Missing</td>\n",
       "      <td>9162</td>\n",
       "      <td>221</td>\n",
       "      <td>211</td>\n",
       "      <td>[7445, 7448, 7449, 7447, 9342, 7450, 3394, 339...</td>\n",
       "    </tr>\n",
       "    <tr>\n",
       "      <th>110</th>\n",
       "      <td>110</td>\n",
       "      <td>These sounds FREE YOU FROM anxiety AND cultiva...</td>\n",
       "      <td>https://www.soundcloud.com/relaxmeditation/set...</td>\n",
       "      <td>1980</td>\n",
       "      <td>Relax-Meditation Music :)</td>\n",
       "      <td>2013-11-17T12:51:00.000Z</td>\n",
       "      <td>Pop</td>\n",
       "      <td>8895</td>\n",
       "      <td>1780</td>\n",
       "      <td>9</td>\n",
       "      <td>[2853, 615, 2854, 2855, 2856, 2857, 2858, 2859...</td>\n",
       "    </tr>\n",
       "  </tbody>\n",
       "</table>\n",
       "</div>"
      ],
      "text/plain": [
       "     playlist_id                                      playlist_name  \\\n",
       "104          104                           TalkToMeInKorean Level 1   \n",
       "203          203                                   reFresh Playlist   \n",
       "161          161  Music Is Elation - Hip Hops Reincarnation Vol....   \n",
       "217          217                           𝙍𝙀𝙈𝙄𝙓𝙀𝙎 𝙊𝙁 𝙋𝙊𝙋𝙐𝙇𝘼𝙍 𝙎𝙊𝙉𝙂𝙎   \n",
       "110          110  These sounds FREE YOU FROM anxiety AND cultiva...   \n",
       "\n",
       "                                          playlist_url  owner_id  \\\n",
       "104  https://www.soundcloud.com/talktomeinkorean/se...       864   \n",
       "203  https://www.soundcloud.com/coors-light/sets/re...      2063   \n",
       "161  https://www.soundcloud.com/music-is-elation/se...      2026   \n",
       "217  https://www.soundcloud.com/hardstyle-zyzz/sets...      2076   \n",
       "110  https://www.soundcloud.com/relaxmeditation/set...      1980   \n",
       "\n",
       "                      username             playlist_time playlist_tag  like  \\\n",
       "104           TalkToMeInKorean  2013-01-23T08:58:51.000Z    Education  9808   \n",
       "203                Coors Light  2015-12-16T14:05:21.000Z      Missing  9695   \n",
       "161           Music Is Elation  2016-01-17T16:09:02.000Z      Hip Hop  9605   \n",
       "217                  𝙃𝘼𝙍𝘿𝙎𝙏𝙔𝙇𝙀  2018-05-30T02:07:05.000Z      Missing  9162   \n",
       "110  Relax-Meditation Music :)  2013-11-17T12:51:00.000Z          Pop  8895   \n",
       "\n",
       "     repost  size                                             tracks  \n",
       "104     918    26  [2776, 2777, 2778, 2779, 2780, 2781, 2782, 278...  \n",
       "203    3169    10  [7695, 7696, 7697, 7698, 7699, 7700, 7701, 770...  \n",
       "161    2258    28  [4821, 4822, 1357, 4823, 4824, 4825, 4826, 482...  \n",
       "217     221   211  [7445, 7448, 7449, 7447, 9342, 7450, 3394, 339...  \n",
       "110    1780     9  [2853, 615, 2854, 2855, 2856, 2857, 2858, 2859...  "
      ]
     },
     "execution_count": 53,
     "metadata": {},
     "output_type": "execute_result"
    }
   ],
   "source": [
    "df_playlists=df_playlists.sort_values('like',ascending=False)\n",
    "df_playlists.head(5)"
   ]
  },
  {
   "cell_type": "markdown",
   "id": "99fee092",
   "metadata": {},
   "source": [
    "# Quan sát số lượt repost của các playlist"
   ]
  },
  {
   "cell_type": "code",
   "execution_count": 55,
   "id": "9f898aeb",
   "metadata": {},
   "outputs": [
    {
     "data": {
      "text/plain": [
       "<AxesSubplot:title={'center':'Biểu đồ phân bố số lượt repost của các playlist'}, xlabel='repost', ylabel='Count'>"
      ]
     },
     "execution_count": 55,
     "metadata": {},
     "output_type": "execute_result"
    },
    {
     "data": {
      "image/png": "[encoded data removed]",
      "text/plain": [
       "<Figure size 1440x360 with 1 Axes>"
      ]
     },
     "metadata": {
      "needs_background": "light"
     },
     "output_type": "display_data"
    }
   ],
   "source": [
    "plt.figure(figsize=(20,5))\n",
    "plt.title(\"Biểu đồ phân bố số lượt repost của các playlist\")\n",
    "sns.histplot(data=df_playlists, x='repost')"
   ]
  },
  {
   "cell_type": "markdown",
   "id": "369d337b",
   "metadata": {},
   "source": [
    "# Top 5 playlist có nhiều lượt repost nhất "
   ]
  },
  {
   "cell_type": "code",
   "execution_count": 56,
   "id": "571be041",
   "metadata": {},
   "outputs": [
    {
     "data": {
      "text/html": [
       "<div>\n",
       "<style scoped>\n",
       "    .dataframe tbody tr th:only-of-type {\n",
       "        vertical-align: middle;\n",
       "    }\n",
       "\n",
       "    .dataframe tbody tr th {\n",
       "        vertical-align: top;\n",
       "    }\n",
       "\n",
       "    .dataframe thead th {\n",
       "        text-align: right;\n",
       "    }\n",
       "</style>\n",
       "<table border=\"1\" class=\"dataframe\">\n",
       "  <thead>\n",
       "    <tr style=\"text-align: right;\">\n",
       "      <th></th>\n",
       "      <th>playlist_id</th>\n",
       "      <th>playlist_name</th>\n",
       "      <th>playlist_url</th>\n",
       "      <th>owner_id</th>\n",
       "      <th>username</th>\n",
       "      <th>playlist_time</th>\n",
       "      <th>playlist_tag</th>\n",
       "      <th>like</th>\n",
       "      <th>repost</th>\n",
       "      <th>size</th>\n",
       "      <th>tracks</th>\n",
       "    </tr>\n",
       "  </thead>\n",
       "  <tbody>\n",
       "    <tr>\n",
       "      <th>128</th>\n",
       "      <td>128</td>\n",
       "      <td>meditation</td>\n",
       "      <td>https://www.soundcloud.com/rehan-khan-55/sets/...</td>\n",
       "      <td>1996</td>\n",
       "      <td>Rehan Khan 55</td>\n",
       "      <td>2017-01-04T18:20:57.000Z</td>\n",
       "      <td>Missing</td>\n",
       "      <td>154</td>\n",
       "      <td>9193</td>\n",
       "      <td>12</td>\n",
       "      <td>[4148, 4149, 4150, 4151, 4152, 4153, 4154, 415...</td>\n",
       "    </tr>\n",
       "    <tr>\n",
       "      <th>41</th>\n",
       "      <td>41</td>\n",
       "      <td>Sunday laziness and sunset views</td>\n",
       "      <td>https://www.soundcloud.com/user-876658341/sets...</td>\n",
       "      <td>1932</td>\n",
       "      <td>Omar</td>\n",
       "      <td>2018-01-16T10:03:49.000Z</td>\n",
       "      <td>Missing</td>\n",
       "      <td>123</td>\n",
       "      <td>8854</td>\n",
       "      <td>58</td>\n",
       "      <td>[865, 866, 867, 868, 869, 870, 871, 872, 873, ...</td>\n",
       "    </tr>\n",
       "    <tr>\n",
       "      <th>23</th>\n",
       "      <td>23</td>\n",
       "      <td>Piano Deep Concentration</td>\n",
       "      <td>https://www.soundcloud.com/nitza-md/sets/piano...</td>\n",
       "      <td>1915</td>\n",
       "      <td>Nitza Md</td>\n",
       "      <td>2016-04-07T10:38:15.000Z</td>\n",
       "      <td>Classical</td>\n",
       "      <td>161</td>\n",
       "      <td>8498</td>\n",
       "      <td>50</td>\n",
       "      <td>[503, 504, 505, 506, 507, 508, 509, 510, 511, ...</td>\n",
       "    </tr>\n",
       "    <tr>\n",
       "      <th>1</th>\n",
       "      <td>1</td>\n",
       "      <td>lofi 4 studying</td>\n",
       "      <td>https://www.soundcloud.com/suricolbert/sets/lo...</td>\n",
       "      <td>1894</td>\n",
       "      <td>suri</td>\n",
       "      <td>2017-02-20T01:17:24.000Z</td>\n",
       "      <td>Hip-hop &amp; Rap</td>\n",
       "      <td>210</td>\n",
       "      <td>8318</td>\n",
       "      <td>86</td>\n",
       "      <td>[0, 1, 2, 3, 4, 5, 6, 7, 8, 9, 10, 11, 12, 13,...</td>\n",
       "    </tr>\n",
       "    <tr>\n",
       "      <th>24</th>\n",
       "      <td>24</td>\n",
       "      <td>pre work out 2017</td>\n",
       "      <td>https://www.soundcloud.com/user154907890/sets/...</td>\n",
       "      <td>1916</td>\n",
       "      <td>Raz</td>\n",
       "      <td>2017-01-28T10:09:12.000Z</td>\n",
       "      <td>Missing</td>\n",
       "      <td>132</td>\n",
       "      <td>7066</td>\n",
       "      <td>12</td>\n",
       "      <td>[553, 554, 555, 556, 557, 558, 559, 560, 561, ...</td>\n",
       "    </tr>\n",
       "  </tbody>\n",
       "</table>\n",
       "</div>"
      ],
      "text/plain": [
       "     playlist_id                     playlist_name  \\\n",
       "128          128                        meditation   \n",
       "41            41  Sunday laziness and sunset views   \n",
       "23            23          Piano Deep Concentration   \n",
       "1              1                   lofi 4 studying   \n",
       "24            24                 pre work out 2017   \n",
       "\n",
       "                                          playlist_url  owner_id  \\\n",
       "128  https://www.soundcloud.com/rehan-khan-55/sets/...      1996   \n",
       "41   https://www.soundcloud.com/user-876658341/sets...      1932   \n",
       "23   https://www.soundcloud.com/nitza-md/sets/piano...      1915   \n",
       "1    https://www.soundcloud.com/suricolbert/sets/lo...      1894   \n",
       "24   https://www.soundcloud.com/user154907890/sets/...      1916   \n",
       "\n",
       "          username             playlist_time   playlist_tag  like  repost  \\\n",
       "128  Rehan Khan 55  2017-01-04T18:20:57.000Z        Missing   154    9193   \n",
       "41            Omar  2018-01-16T10:03:49.000Z        Missing   123    8854   \n",
       "23        Nitza Md  2016-04-07T10:38:15.000Z      Classical   161    8498   \n",
       "1             suri  2017-02-20T01:17:24.000Z  Hip-hop & Rap   210    8318   \n",
       "24             Raz  2017-01-28T10:09:12.000Z        Missing   132    7066   \n",
       "\n",
       "     size                                             tracks  \n",
       "128    12  [4148, 4149, 4150, 4151, 4152, 4153, 4154, 415...  \n",
       "41     58  [865, 866, 867, 868, 869, 870, 871, 872, 873, ...  \n",
       "23     50  [503, 504, 505, 506, 507, 508, 509, 510, 511, ...  \n",
       "1      86  [0, 1, 2, 3, 4, 5, 6, 7, 8, 9, 10, 11, 12, 13,...  \n",
       "24     12  [553, 554, 555, 556, 557, 558, 559, 560, 561, ...  "
      ]
     },
     "execution_count": 56,
     "metadata": {},
     "output_type": "execute_result"
    }
   ],
   "source": [
    "df_playlists=df_playlists.sort_values('repost',ascending=False)\n",
    "df_playlists.head(5)"
   ]
  },
  {
   "cell_type": "markdown",
   "id": "c8880fec",
   "metadata": {},
   "source": [
    "# Mối quan hệ giữa số lượng track, lượt like, repost"
   ]
  },
  {
   "cell_type": "code",
   "execution_count": 49,
   "id": "181d2183",
   "metadata": {},
   "outputs": [
    {
     "name": "stderr",
     "output_type": "stream",
     "text": [
      "C:\\Users\\Admin\\anaconda3\\lib\\site-packages\\seaborn\\distributions.py:2619: FutureWarning: `distplot` is a deprecated function and will be removed in a future version. Please adapt your code to use either `displot` (a figure-level function with similar flexibility) or `histplot` (an axes-level function for histograms).\n",
      "  warnings.warn(msg, FutureWarning)\n"
     ]
    },
    {
     "data": {
      "text/plain": [
       "<AxesSubplot:title={'center':'Phân bố số lượng bài hát trong playlist'}, xlabel='size', ylabel='Density'>"
      ]
     },
     "execution_count": 49,
     "metadata": {},
     "output_type": "execute_result"
    },
    {
     "data": {
      "image/png": "[encoded data removed]",
      "text/plain": [
       "<Figure size 1080x360 with 1 Axes>"
      ]
     },
     "metadata": {
      "needs_background": "light"
     },
     "output_type": "display_data"
    }
   ],
   "source": [
    "plt.figure(figsize=(15,5))\n",
    "plt.title(\"Phân bố số lượng bài hát trong playlist\")\n",
    "sns.distplot(df_playlists[\"size\"])"
   ]
  },
  {
   "cell_type": "markdown",
   "id": "e37ef7b0",
   "metadata": {},
   "source": [
    "Bên trên ta xem phân bố số lượng bài hát trong các playlists như thế nào. Tiếp theo, ta xem có bất kì mối quan hệ gì không so với các biến như lượt thích (like) và phát lại (repost)."
   ]
  },
  {
   "cell_type": "code",
   "execution_count": 57,
   "id": "ddc93ed5",
   "metadata": {},
   "outputs": [
    {
     "data": {
      "image/png": "[encoded data removed]",
      "text/plain": [
       "<Figure size 1080x288 with 2 Axes>"
      ]
     },
     "metadata": {
      "needs_background": "light"
     },
     "output_type": "display_data"
    }
   ],
   "source": [
    "h2 = df_playlists[['like', 'repost', 'size']]\n",
    "corr = h2.corr()\n",
    "fig = plt.figure(figsize=(15,4))\n",
    "ax = fig.add_subplot(111)\n",
    "cax = ax.matshow(corr,cmap='coolwarm', vmin=-1, vmax=1)\n",
    "fig.colorbar(cax)\n",
    "ticks = np.arange(0,len(h2.columns),1)\n",
    "ax.set_xticks(ticks)\n",
    "plt.xticks(rotation=90)\n",
    "ax.set_yticks(ticks)\n",
    "ax.set_xticklabels(h2.columns)\n",
    "ax.set_yticklabels(h2.columns)\n",
    "plt.title(\"Biểu đồ mối liên hệ giữa repost, like và size\")\n",
    "plt.show()"
   ]
  },
  {
   "cell_type": "markdown",
   "id": "7eb8aa91",
   "metadata": {},
   "source": [
    "Ta có thể thấy số lượng track hoàn toàn không ảnh hưởng đến các chỉ số khác "
   ]
  },
  {
   "cell_type": "markdown",
   "id": "dc66199d",
   "metadata": {},
   "source": [
    "# playlist_time phân bố như thế nào?"
   ]
  },
  {
   "cell_type": "code",
   "execution_count": 68,
   "id": "7dc26137",
   "metadata": {},
   "outputs": [],
   "source": [
    "dates = df_playlists['playlist_time'].squeeze()\n",
    "dates = pd.to_datetime(dates, format='%Y-%m-%d %H:%M:%S')\n",
    "years = dates.dt.year"
   ]
  },
  {
   "cell_type": "code",
   "execution_count": 69,
   "id": "3d95548a",
   "metadata": {},
   "outputs": [
    {
     "data": {
      "image/png": "[encoded data removed]",
      "text/plain": [
       "<Figure size 1080x360 with 1 Axes>"
      ]
     },
     "metadata": {
      "needs_background": "light"
     },
     "output_type": "display_data"
    }
   ],
   "source": [
    "sns.displot(years, discrete=True, aspect=3)\n",
    "plt.title('Biểu đồ phân bố các playlist theo từng năm')\n",
    "plt.show()"
   ]
  },
  {
   "cell_type": "markdown",
   "id": "1a472626",
   "metadata": {},
   "source": [
    "- Số lượng playlist xuất hiện lần đầu vào khoảng 2010 sau đó có xu hương tăng mạnh và đạt đỉnh vào năm 2016 sau đó có xu hướng giảm dần"
   ]
  },
  {
   "cell_type": "markdown",
   "id": "d6e01327",
   "metadata": {},
   "source": [
    "# Số lượt thích theo từng năm"
   ]
  },
  {
   "cell_type": "code",
   "execution_count": 83,
   "id": "ced2085d",
   "metadata": {},
   "outputs": [
    {
     "data": {
      "image/png": "[encoded data removed]",
      "text/plain": [
       "<Figure size 432x288 with 1 Axes>"
      ]
     },
     "metadata": {
      "needs_background": "light"
     },
     "output_type": "display_data"
    }
   ],
   "source": [
    "plt.barh(years,df_playlists['like'], align='center', alpha=1)\n",
    "plt.xlabel('like')\n",
    "plt.ylabel('year')\n",
    "plt.title('Biểu đồ thể hiện số lượt like theo năm')\n",
    "plt.show()"
   ]
  },
  {
   "cell_type": "markdown",
   "id": "e050e0c7",
   "metadata": {},
   "source": [
    "- Biểu đồ cho thấy số lượt like cao nhất trong các năm 2013 và thấp nhất vào 2010"
   ]
  }
 ],
 "metadata": {
  "kernelspec": {
   "display_name": "Python 3 (ipykernel)",
   "language": "python",
   "name": "python3"
  },
  "language_info": {
   "codemirror_mode": {
    "name": "ipython",
    "version": 3
   },
   "file_extension": ".py",
   "mimetype": "text/x-python",
   "name": "python",
   "nbconvert_exporter": "python",
   "pygments_lexer": "ipython3",
   "version": "3.9.12"
  }
 },
 "nbformat": 4,
 "nbformat_minor": 5
}
