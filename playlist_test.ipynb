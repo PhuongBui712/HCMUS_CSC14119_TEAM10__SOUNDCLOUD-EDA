{
 "cells": [
  {
   "cell_type": "code",
   "execution_count": 33,
   "id": "cc66c6dc",
   "metadata": {},
   "outputs": [],
   "source": [
    "import pandas as pd\n",
    "import numpy as np\n",
    "import datetime\n",
    "import matplotlib.pyplot as plt\n",
    "import seaborn as sns\n",
    "import statistics\n",
    "import numpy as np"
   ]
  },
  {
   "cell_type": "markdown",
   "id": "fe2c96cb",
   "metadata": {},
   "source": [
    "# Đọc dữ liệu"
   ]
  },
  {
   "cell_type": "code",
   "execution_count": 34,
   "id": "de3c3c88",
   "metadata": {},
   "outputs": [],
   "source": [
    "df_playlists = pd.read_csv('playlist.csv')"
   ]
  },
  {
   "cell_type": "code",
   "execution_count": 35,
   "id": "4e1fb4c5",
   "metadata": {
    "scrolled": true
   },
   "outputs": [
    {
     "data": {
      "text/html": [
       "<div>\n",
       "<style scoped>\n",
       "    .dataframe tbody tr th:only-of-type {\n",
       "        vertical-align: middle;\n",
       "    }\n",
       "\n",
       "    .dataframe tbody tr th {\n",
       "        vertical-align: top;\n",
       "    }\n",
       "\n",
       "    .dataframe thead th {\n",
       "        text-align: right;\n",
       "    }\n",
       "</style>\n",
       "<table border=\"1\" class=\"dataframe\">\n",
       "  <thead>\n",
       "    <tr style=\"text-align: right;\">\n",
       "      <th></th>\n",
       "      <th>playlist_id</th>\n",
       "      <th>playlist_name</th>\n",
       "      <th>playlist_url</th>\n",
       "      <th>owner_id</th>\n",
       "      <th>username</th>\n",
       "      <th>playlist_time</th>\n",
       "      <th>playlist_tag</th>\n",
       "      <th>like</th>\n",
       "      <th>repost</th>\n",
       "      <th>size</th>\n",
       "      <th>tracks</th>\n",
       "    </tr>\n",
       "  </thead>\n",
       "  <tbody>\n",
       "    <tr>\n",
       "      <th>0</th>\n",
       "      <td>0</td>\n",
       "      <td>Lat3 Nit3</td>\n",
       "      <td>https://www.soundcloud.com/latenit3/sets/lat3-...</td>\n",
       "      <td>1893</td>\n",
       "      <td>Latenit3</td>\n",
       "      <td>2017-04-21T12:05:32.000Z</td>\n",
       "      <td>NaN</td>\n",
       "      <td>20</td>\n",
       "      <td>3</td>\n",
       "      <td>0</td>\n",
       "      <td>[]</td>\n",
       "    </tr>\n",
       "    <tr>\n",
       "      <th>1</th>\n",
       "      <td>1</td>\n",
       "      <td>lofi 4 studying</td>\n",
       "      <td>https://www.soundcloud.com/suricolbert/sets/lo...</td>\n",
       "      <td>1894</td>\n",
       "      <td>suri</td>\n",
       "      <td>2017-02-20T01:17:24.000Z</td>\n",
       "      <td>Hip-hop &amp; Rap</td>\n",
       "      <td>210</td>\n",
       "      <td>8318</td>\n",
       "      <td>86</td>\n",
       "      <td>[0, 1, 2, 3, 4, 5, 6, 7, 8, 9, 10, 11, 12, 13,...</td>\n",
       "    </tr>\n",
       "    <tr>\n",
       "      <th>2</th>\n",
       "      <td>2</td>\n",
       "      <td>Lowfi hip hop chills</td>\n",
       "      <td>https://www.soundcloud.com/nuedenk/sets/lowfi-...</td>\n",
       "      <td>1895</td>\n",
       "      <td>Nix</td>\n",
       "      <td>2017-03-10T07:58:45.000Z</td>\n",
       "      <td>Lofi Hip Hop</td>\n",
       "      <td>203</td>\n",
       "      <td>20</td>\n",
       "      <td>135</td>\n",
       "      <td>[86, 87, 88, 89, 90, 91, 92, 93, 94, 95, 96, 9...</td>\n",
       "    </tr>\n",
       "    <tr>\n",
       "      <th>3</th>\n",
       "      <td>3</td>\n",
       "      <td>Late Night Drive</td>\n",
       "      <td>https://www.soundcloud.com/lordafi/sets/sweg</td>\n",
       "      <td>1896</td>\n",
       "      <td>TMN Playlisted</td>\n",
       "      <td>2014-07-21T07:00:32.000Z</td>\n",
       "      <td>Dance &amp; EDM</td>\n",
       "      <td>75</td>\n",
       "      <td>5122</td>\n",
       "      <td>45</td>\n",
       "      <td>[219, 220, 221, 222, 223, 224, 225, 226, 227, ...</td>\n",
       "    </tr>\n",
       "    <tr>\n",
       "      <th>4</th>\n",
       "      <td>4</td>\n",
       "      <td>Late Night Lofi</td>\n",
       "      <td>https://www.soundcloud.com/ilyanaazman/sets/la...</td>\n",
       "      <td>1897</td>\n",
       "      <td>Ilyana Azman</td>\n",
       "      <td>2017-08-14T13:00:19.000Z</td>\n",
       "      <td>NaN</td>\n",
       "      <td>48</td>\n",
       "      <td>2372</td>\n",
       "      <td>40</td>\n",
       "      <td>[264, 265, 266, 267, 57, 268, 269, 270, 271, 2...</td>\n",
       "    </tr>\n",
       "    <tr>\n",
       "      <th>...</th>\n",
       "      <td>...</td>\n",
       "      <td>...</td>\n",
       "      <td>...</td>\n",
       "      <td>...</td>\n",
       "      <td>...</td>\n",
       "      <td>...</td>\n",
       "      <td>...</td>\n",
       "      <td>...</td>\n",
       "      <td>...</td>\n",
       "      <td>...</td>\n",
       "      <td>...</td>\n",
       "    </tr>\n",
       "    <tr>\n",
       "      <th>304</th>\n",
       "      <td>304</td>\n",
       "      <td>80'an</td>\n",
       "      <td>https://www.soundcloud.com/pbgcheat/sets/80an</td>\n",
       "      <td>2160</td>\n",
       "      <td>Lagu Lawas Indonesia 90an</td>\n",
       "      <td>2016-09-07T12:32:43.000Z</td>\n",
       "      <td>NaN</td>\n",
       "      <td>745</td>\n",
       "      <td>123</td>\n",
       "      <td>0</td>\n",
       "      <td>[]</td>\n",
       "    </tr>\n",
       "    <tr>\n",
       "      <th>305</th>\n",
       "      <td>305</td>\n",
       "      <td>8lyaaaa</td>\n",
       "      <td>https://www.soundcloud.com/user374368488/sets/...</td>\n",
       "      <td>2161</td>\n",
       "      <td>user374368488</td>\n",
       "      <td>2014-05-13T18:45:50.000Z</td>\n",
       "      <td>NaN</td>\n",
       "      <td>0</td>\n",
       "      <td>0</td>\n",
       "      <td>282</td>\n",
       "      <td>[25853, 25854, 25855, 25856, 25857, 25858, 258...</td>\n",
       "    </tr>\n",
       "    <tr>\n",
       "      <th>306</th>\n",
       "      <td>306</td>\n",
       "      <td>88388</td>\n",
       "      <td>https://www.soundcloud.com/shamma-alfahim-1302...</td>\n",
       "      <td>2162</td>\n",
       "      <td>XSF9</td>\n",
       "      <td>2020-08-19T20:49:00.000Z</td>\n",
       "      <td>NaN</td>\n",
       "      <td>6</td>\n",
       "      <td>0</td>\n",
       "      <td>205</td>\n",
       "      <td>[26075, 26076, 26077, 26078, 12021, 26079, 121...</td>\n",
       "    </tr>\n",
       "    <tr>\n",
       "      <th>307</th>\n",
       "      <td>307</td>\n",
       "      <td>80s arabic</td>\n",
       "      <td>https://www.soundcloud.com/mito-mito-715670362...</td>\n",
       "      <td>2163</td>\n",
       "      <td>Mito Mito</td>\n",
       "      <td>2017-03-09T18:56:39.000Z</td>\n",
       "      <td>NaN</td>\n",
       "      <td>41</td>\n",
       "      <td>2</td>\n",
       "      <td>303</td>\n",
       "      <td>[11605, 11597, 12750, 11667, 12887, 11568, 116...</td>\n",
       "    </tr>\n",
       "    <tr>\n",
       "      <th>308</th>\n",
       "      <td>308</td>\n",
       "      <td>80s/90s reggae mix</td>\n",
       "      <td>https://www.soundcloud.com/andrew-hollands-924...</td>\n",
       "      <td>2164</td>\n",
       "      <td>Andrew Hollands</td>\n",
       "      <td>2017-04-06T11:33:53.000Z</td>\n",
       "      <td>NaN</td>\n",
       "      <td>39</td>\n",
       "      <td>2</td>\n",
       "      <td>254</td>\n",
       "      <td>[24743, 24742, 24746, 24758, 25059, 25154, 247...</td>\n",
       "    </tr>\n",
       "  </tbody>\n",
       "</table>\n",
       "<p>309 rows × 11 columns</p>\n",
       "</div>"
      ],
      "text/plain": [
       "     playlist_id         playlist_name  \\\n",
       "0              0             Lat3 Nit3   \n",
       "1              1       lofi 4 studying   \n",
       "2              2  Lowfi hip hop chills   \n",
       "3              3      Late Night Drive   \n",
       "4              4       Late Night Lofi   \n",
       "..           ...                   ...   \n",
       "304          304                 80'an   \n",
       "305          305               8lyaaaa   \n",
       "306          306                 88388   \n",
       "307          307            80s arabic   \n",
       "308          308    80s/90s reggae mix   \n",
       "\n",
       "                                          playlist_url  owner_id  \\\n",
       "0    https://www.soundcloud.com/latenit3/sets/lat3-...      1893   \n",
       "1    https://www.soundcloud.com/suricolbert/sets/lo...      1894   \n",
       "2    https://www.soundcloud.com/nuedenk/sets/lowfi-...      1895   \n",
       "3         https://www.soundcloud.com/lordafi/sets/sweg      1896   \n",
       "4    https://www.soundcloud.com/ilyanaazman/sets/la...      1897   \n",
       "..                                                 ...       ...   \n",
       "304      https://www.soundcloud.com/pbgcheat/sets/80an      2160   \n",
       "305  https://www.soundcloud.com/user374368488/sets/...      2161   \n",
       "306  https://www.soundcloud.com/shamma-alfahim-1302...      2162   \n",
       "307  https://www.soundcloud.com/mito-mito-715670362...      2163   \n",
       "308  https://www.soundcloud.com/andrew-hollands-924...      2164   \n",
       "\n",
       "                      username             playlist_time   playlist_tag  like  \\\n",
       "0                     Latenit3  2017-04-21T12:05:32.000Z            NaN    20   \n",
       "1                         suri  2017-02-20T01:17:24.000Z  Hip-hop & Rap   210   \n",
       "2                          Nix  2017-03-10T07:58:45.000Z   Lofi Hip Hop   203   \n",
       "3               TMN Playlisted  2014-07-21T07:00:32.000Z    Dance & EDM    75   \n",
       "4                 Ilyana Azman  2017-08-14T13:00:19.000Z            NaN    48   \n",
       "..                         ...                       ...            ...   ...   \n",
       "304  Lagu Lawas Indonesia 90an  2016-09-07T12:32:43.000Z            NaN   745   \n",
       "305              user374368488  2014-05-13T18:45:50.000Z            NaN     0   \n",
       "306                       XSF9  2020-08-19T20:49:00.000Z            NaN     6   \n",
       "307                  Mito Mito  2017-03-09T18:56:39.000Z            NaN    41   \n",
       "308            Andrew Hollands  2017-04-06T11:33:53.000Z            NaN    39   \n",
       "\n",
       "     repost  size                                             tracks  \n",
       "0         3     0                                                 []  \n",
       "1      8318    86  [0, 1, 2, 3, 4, 5, 6, 7, 8, 9, 10, 11, 12, 13,...  \n",
       "2        20   135  [86, 87, 88, 89, 90, 91, 92, 93, 94, 95, 96, 9...  \n",
       "3      5122    45  [219, 220, 221, 222, 223, 224, 225, 226, 227, ...  \n",
       "4      2372    40  [264, 265, 266, 267, 57, 268, 269, 270, 271, 2...  \n",
       "..      ...   ...                                                ...  \n",
       "304     123     0                                                 []  \n",
       "305       0   282  [25853, 25854, 25855, 25856, 25857, 25858, 258...  \n",
       "306       0   205  [26075, 26076, 26077, 26078, 12021, 26079, 121...  \n",
       "307       2   303  [11605, 11597, 12750, 11667, 12887, 11568, 116...  \n",
       "308       2   254  [24743, 24742, 24746, 24758, 25059, 25154, 247...  \n",
       "\n",
       "[309 rows x 11 columns]"
      ]
     },
     "execution_count": 35,
     "metadata": {},
     "output_type": "execute_result"
    }
   ],
   "source": [
    "df_playlists"
   ]
  },
  {
   "cell_type": "markdown",
   "id": "407b8a2e",
   "metadata": {},
   "source": [
    "Dữ liệu có 309 dòng và 11 cột"
   ]
  },
  {
   "cell_type": "markdown",
   "id": "7c751e3c",
   "metadata": {},
   "source": [
    "# Ý nghĩa các cột\n",
    "- playlist_id: mã định danh playlist\n",
    "- playlist_name: tên playlist\n",
    "- playlist_url: đường dẫn đến playlist\n",
    "- owner_id: mã chủ sở hữu playlist\n",
    "- username: tên chủ sở hữu\n",
    "- playlist_time: ngày xuất bản\n",
    "- playlist_tag: thể loại của playlist\n",
    "- like: số lượt thích\n",
    "- repost: số lượng đăng lại\n",
    "- size: số lượng các track trong playlist\n",
    "- tracks: các track trong playlist"
   ]
  },
  {
   "cell_type": "markdown",
   "id": "acfb7174",
   "metadata": {},
   "source": [
    "# kiểu dữ liệu các cột"
   ]
  },
  {
   "cell_type": "code",
   "execution_count": 36,
   "id": "e02886ab",
   "metadata": {},
   "outputs": [
    {
     "name": "stdout",
     "output_type": "stream",
     "text": [
      "<class 'pandas.core.frame.DataFrame'>\n",
      "RangeIndex: 309 entries, 0 to 308\n",
      "Data columns (total 11 columns):\n",
      " #   Column         Non-Null Count  Dtype \n",
      "---  ------         --------------  ----- \n",
      " 0   playlist_id    309 non-null    int64 \n",
      " 1   playlist_name  309 non-null    object\n",
      " 2   playlist_url   309 non-null    object\n",
      " 3   owner_id       309 non-null    int64 \n",
      " 4   username       309 non-null    object\n",
      " 5   playlist_time  309 non-null    object\n",
      " 6   playlist_tag   70 non-null     object\n",
      " 7   like           309 non-null    int64 \n",
      " 8   repost         309 non-null    int64 \n",
      " 9   size           309 non-null    int64 \n",
      " 10  tracks         309 non-null    object\n",
      "dtypes: int64(5), object(6)\n",
      "memory usage: 26.7+ KB\n"
     ]
    }
   ],
   "source": [
    "df_playlists.info()"
   ]
  },
  {
   "cell_type": "markdown",
   "id": "6387f677",
   "metadata": {},
   "source": [
    "# Các thông số cơ bản của các cột"
   ]
  },
  {
   "cell_type": "code",
   "execution_count": 37,
   "id": "3260f93b",
   "metadata": {},
   "outputs": [
    {
     "data": {
      "text/html": [
       "<div>\n",
       "<style scoped>\n",
       "    .dataframe tbody tr th:only-of-type {\n",
       "        vertical-align: middle;\n",
       "    }\n",
       "\n",
       "    .dataframe tbody tr th {\n",
       "        vertical-align: top;\n",
       "    }\n",
       "\n",
       "    .dataframe thead th {\n",
       "        text-align: right;\n",
       "    }\n",
       "</style>\n",
       "<table border=\"1\" class=\"dataframe\">\n",
       "  <thead>\n",
       "    <tr style=\"text-align: right;\">\n",
       "      <th></th>\n",
       "      <th>playlist_id</th>\n",
       "      <th>owner_id</th>\n",
       "      <th>like</th>\n",
       "      <th>repost</th>\n",
       "      <th>size</th>\n",
       "    </tr>\n",
       "  </thead>\n",
       "  <tbody>\n",
       "    <tr>\n",
       "      <th>count</th>\n",
       "      <td>309.000000</td>\n",
       "      <td>309.000000</td>\n",
       "      <td>309.000000</td>\n",
       "      <td>309.000000</td>\n",
       "      <td>309.000000</td>\n",
       "    </tr>\n",
       "    <tr>\n",
       "      <th>mean</th>\n",
       "      <td>154.000000</td>\n",
       "      <td>1944.207120</td>\n",
       "      <td>561.110032</td>\n",
       "      <td>496.792880</td>\n",
       "      <td>110.317152</td>\n",
       "    </tr>\n",
       "    <tr>\n",
       "      <th>std</th>\n",
       "      <td>89.344838</td>\n",
       "      <td>345.646856</td>\n",
       "      <td>1683.387834</td>\n",
       "      <td>1409.731418</td>\n",
       "      <td>149.263918</td>\n",
       "    </tr>\n",
       "    <tr>\n",
       "      <th>min</th>\n",
       "      <td>0.000000</td>\n",
       "      <td>124.000000</td>\n",
       "      <td>0.000000</td>\n",
       "      <td>0.000000</td>\n",
       "      <td>0.000000</td>\n",
       "    </tr>\n",
       "    <tr>\n",
       "      <th>25%</th>\n",
       "      <td>77.000000</td>\n",
       "      <td>1948.000000</td>\n",
       "      <td>2.000000</td>\n",
       "      <td>0.000000</td>\n",
       "      <td>5.000000</td>\n",
       "    </tr>\n",
       "    <tr>\n",
       "      <th>50%</th>\n",
       "      <td>154.000000</td>\n",
       "      <td>2013.000000</td>\n",
       "      <td>16.000000</td>\n",
       "      <td>2.000000</td>\n",
       "      <td>21.000000</td>\n",
       "    </tr>\n",
       "    <tr>\n",
       "      <th>75%</th>\n",
       "      <td>231.000000</td>\n",
       "      <td>2090.000000</td>\n",
       "      <td>113.000000</td>\n",
       "      <td>90.000000</td>\n",
       "      <td>216.000000</td>\n",
       "    </tr>\n",
       "    <tr>\n",
       "      <th>max</th>\n",
       "      <td>308.000000</td>\n",
       "      <td>2164.000000</td>\n",
       "      <td>9808.000000</td>\n",
       "      <td>9193.000000</td>\n",
       "      <td>500.000000</td>\n",
       "    </tr>\n",
       "  </tbody>\n",
       "</table>\n",
       "</div>"
      ],
      "text/plain": [
       "       playlist_id     owner_id         like       repost        size\n",
       "count   309.000000   309.000000   309.000000   309.000000  309.000000\n",
       "mean    154.000000  1944.207120   561.110032   496.792880  110.317152\n",
       "std      89.344838   345.646856  1683.387834  1409.731418  149.263918\n",
       "min       0.000000   124.000000     0.000000     0.000000    0.000000\n",
       "25%      77.000000  1948.000000     2.000000     0.000000    5.000000\n",
       "50%     154.000000  2013.000000    16.000000     2.000000   21.000000\n",
       "75%     231.000000  2090.000000   113.000000    90.000000  216.000000\n",
       "max     308.000000  2164.000000  9808.000000  9193.000000  500.000000"
      ]
     },
     "execution_count": 37,
     "metadata": {},
     "output_type": "execute_result"
    }
   ],
   "source": [
    "df_playlists.describe()"
   ]
  },
  {
   "cell_type": "markdown",
   "id": "c7aabc22",
   "metadata": {},
   "source": [
    "# Dữ liệu có bị duplicate không ?"
   ]
  },
  {
   "cell_type": "code",
   "execution_count": 38,
   "id": "f6dea81d",
   "metadata": {},
   "outputs": [
    {
     "name": "stdout",
     "output_type": "stream",
     "text": [
      "0\n"
     ]
    }
   ],
   "source": [
    "num_duplicated_rows = df_playlists.index.duplicated().sum()\n",
    "print(num_duplicated_rows)"
   ]
  },
  {
   "cell_type": "markdown",
   "id": "a2cf840d",
   "metadata": {},
   "source": [
    "# Dữ liệu có bị mất không ? "
   ]
  },
  {
   "cell_type": "code",
   "execution_count": 39,
   "id": "e64f51de",
   "metadata": {},
   "outputs": [
    {
     "data": {
      "text/plain": [
       "playlist_id        0\n",
       "playlist_name      0\n",
       "playlist_url       0\n",
       "owner_id           0\n",
       "username           0\n",
       "playlist_time      0\n",
       "playlist_tag     239\n",
       "like               0\n",
       "repost             0\n",
       "size               0\n",
       "tracks             0\n",
       "dtype: int64"
      ]
     },
     "execution_count": 39,
     "metadata": {},
     "output_type": "execute_result"
    }
   ],
   "source": [
    "df_playlists.isnull().sum()"
   ]
  },
  {
   "cell_type": "markdown",
   "id": "85b28bae",
   "metadata": {},
   "source": [
    "Cột playlist_tag bị mất dữ liệu"
   ]
  },
  {
   "cell_type": "markdown",
   "id": "7848551d",
   "metadata": {},
   "source": [
    "# Xử lý missing "
   ]
  },
  {
   "cell_type": "code",
   "execution_count": 40,
   "id": "1a229e24",
   "metadata": {},
   "outputs": [],
   "source": [
    "df_playlists = df_playlists.fillna(\"Missing\")"
   ]
  },
  {
   "cell_type": "code",
   "execution_count": 41,
   "id": "b42b3efa",
   "metadata": {},
   "outputs": [
    {
     "data": {
      "text/plain": [
       "playlist_id      0\n",
       "playlist_name    0\n",
       "playlist_url     0\n",
       "owner_id         0\n",
       "username         0\n",
       "playlist_time    0\n",
       "playlist_tag     0\n",
       "like             0\n",
       "repost           0\n",
       "size             0\n",
       "tracks           0\n",
       "dtype: int64"
      ]
     },
     "execution_count": 41,
     "metadata": {},
     "output_type": "execute_result"
    }
   ],
   "source": [
    "df_playlists.isnull().sum()"
   ]
  },
  {
   "cell_type": "markdown",
   "id": "3492fb5d",
   "metadata": {},
   "source": [
    "Missing đã được xử lý"
   ]
  },
  {
   "cell_type": "markdown",
   "id": "15323564",
   "metadata": {},
   "source": [
    "# Data Outliers"
   ]
  },
  {
   "cell_type": "code",
   "execution_count": null,
   "id": "70e17196",
   "metadata": {},
   "outputs": [],
   "source": []
  },
  {
   "cell_type": "markdown",
   "id": "73b943a9",
   "metadata": {},
   "source": [
    "# Quan sát số lượt like của các playlist"
   ]
  },
  {
   "cell_type": "code",
   "execution_count": 45,
   "id": "7404e734",
   "metadata": {},
   "outputs": [
    {
     "data": {
      "text/plain": [
       "<AxesSubplot:xlabel='like', ylabel='Count'>"
      ]
     },
     "execution_count": 45,
     "metadata": {},
     "output_type": "execute_result"
    },
    {
     "data": {
      "image/png": "[encoded data removed]",
      "text/plain": [
       "<Figure size 1440x360 with 1 Axes>"
      ]
     },
     "metadata": {
      "needs_background": "light"
     },
     "output_type": "display_data"
    }
   ],
   "source": [
    "plt.figure(figsize=(20,5))\n",
    "sns.histplot(data=df_playlists, x='like')"
   ]
  },
  {
   "cell_type": "markdown",
   "id": "59268f19",
   "metadata": {},
   "source": [
    "Ta có thể quan sát được số lượng lượt thích đa số nằm ở khu vực dưới 2000 , vậy nên số lượng playlists có lượt thích (like) cao là không nhiều.Playlist có lượt thích cao nhất là"
   ]
  },
  {
   "cell_type": "code",
   "execution_count": 47,
   "id": "12c950f8",
   "metadata": {},
   "outputs": [
    {
     "data": {
      "text/plain": [
       "playlist_id                                                    104\n",
       "playlist_name                             TalkToMeInKorean Level 1\n",
       "playlist_url     https://www.soundcloud.com/talktomeinkorean/se...\n",
       "owner_id                                                       864\n",
       "username                                          TalkToMeInKorean\n",
       "playlist_time                             2013-01-23T08:58:51.000Z\n",
       "playlist_tag                                             Education\n",
       "like                                                          9808\n",
       "repost                                                         918\n",
       "size                                                            26\n",
       "tracks           [2776, 2777, 2778, 2779, 2780, 2781, 2782, 278...\n",
       "Name: 104, dtype: object"
      ]
     },
     "execution_count": 47,
     "metadata": {},
     "output_type": "execute_result"
    }
   ],
   "source": [
    "df_playlists.iloc[df_playlists['like'].argmax()]"
   ]
  },
  {
   "cell_type": "markdown",
   "id": "c8880fec",
   "metadata": {},
   "source": [
    "# Mối quan hệ giữa số lượng track, lượt like, repost"
   ]
  },
  {
   "cell_type": "code",
   "execution_count": 57,
   "id": "181d2183",
   "metadata": {},
   "outputs": [
    {
     "data": {
      "text/plain": [
       "<AxesSubplot:xlabel='size', ylabel='Density'>"
      ]
     },
     "execution_count": 57,
     "metadata": {},
     "output_type": "execute_result"
    },
    {
     "data": {
      "image/png": "[encoded data removed]",
      "text/plain": [
       "<Figure size 1080x360 with 1 Axes>"
      ]
     },
     "metadata": {
      "needs_background": "light"
     },
     "output_type": "display_data"
    }
   ],
   "source": [
    "plt.figure(figsize=(15,5))\n",
    "sns.distplot(df_playlists[\"size\"])"
   ]
  },
  {
   "cell_type": "markdown",
   "id": "e37ef7b0",
   "metadata": {},
   "source": [
    "Bên trên ta xem phân bố số lượng bài hát trong các playlists như thế nào. Tiếp theo, ta xem có bất kì mối quan hệ gì không so với các biến như lượt thích (like) và phát lại (repost)."
   ]
  },
  {
   "cell_type": "code",
   "execution_count": 61,
   "id": "ddc93ed5",
   "metadata": {},
   "outputs": [
    {
     "data": {
      "image/png": "[encoded data removed]",
      "text/plain": [
       "<Figure size 1080x288 with 2 Axes>"
      ]
     },
     "metadata": {
      "needs_background": "light"
     },
     "output_type": "display_data"
    }
   ],
   "source": [
    "h2 = df_playlists[['like', 'repost', 'size']]\n",
    "corr = h2.corr()\n",
    "fig = plt.figure(figsize=(15,4))\n",
    "ax = fig.add_subplot(111)\n",
    "cax = ax.matshow(corr,cmap='coolwarm', vmin=-1, vmax=1)\n",
    "fig.colorbar(cax)\n",
    "ticks = np.arange(0,len(h2.columns),1)\n",
    "ax.set_xticks(ticks)\n",
    "plt.xticks(rotation=90)\n",
    "ax.set_yticks(ticks)\n",
    "ax.set_xticklabels(h2.columns)\n",
    "ax.set_yticklabels(h2.columns)\n",
    "plt.show()"
   ]
  },
  {
   "cell_type": "markdown",
   "id": "7eb8aa91",
   "metadata": {},
   "source": [
    "Ta có thể thấy số lượng track hoàn toàn không ảnh hưởng đến các chỉ số khác "
   ]
  },
  {
   "cell_type": "code",
   "execution_count": null,
   "id": "d471881b",
   "metadata": {},
   "outputs": [],
   "source": []
  }
 ],
 "metadata": {
  "kernelspec": {
   "display_name": "Python 3 (ipykernel)",
   "language": "python",
   "name": "python3"
  },
  "language_info": {
   "codemirror_mode": {
    "name": "ipython",
    "version": 3
   },
   "file_extension": ".py",
   "mimetype": "text/x-python",
   "name": "python",
   "nbconvert_exporter": "python",
   "pygments_lexer": "ipython3",
   "version": "3.9.12"
  }
 },
 "nbformat": 4,
 "nbformat_minor": 5
}
