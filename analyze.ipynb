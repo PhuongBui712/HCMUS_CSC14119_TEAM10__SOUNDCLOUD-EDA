{
 "cells": [
  {
   "cell_type": "code",
   "execution_count": 1,
   "id": "3d861efc",
   "metadata": {},
   "outputs": [],
   "source": [
    "import pandas as pd\n",
    "import numpy as np\n",
    "import datetime\n",
    "import matplotlib.pyplot as plt\n",
    "import seaborn as sns\n",
    "import statistics\n",
    "import numpy as np"
   ]
  },
  {
   "cell_type": "markdown",
   "id": "f6f967e7",
   "metadata": {},
   "source": [
    "#### Đọc và xem trước"
   ]
  },
  {
   "cell_type": "code",
   "execution_count": 2,
   "id": "b95143a8",
   "metadata": {},
   "outputs": [
    {
     "data": {
      "text/html": [
       "<div>\n",
       "<style scoped>\n",
       "    .dataframe tbody tr th:only-of-type {\n",
       "        vertical-align: middle;\n",
       "    }\n",
       "\n",
       "    .dataframe tbody tr th {\n",
       "        vertical-align: top;\n",
       "    }\n",
       "\n",
       "    .dataframe thead th {\n",
       "        text-align: right;\n",
       "    }\n",
       "</style>\n",
       "<table border=\"1\" class=\"dataframe\">\n",
       "  <thead>\n",
       "    <tr style=\"text-align: right;\">\n",
       "      <th></th>\n",
       "      <th>user_id</th>\n",
       "      <th>username</th>\n",
       "      <th>user_url</th>\n",
       "      <th>confirm_owner</th>\n",
       "      <th>detail_name</th>\n",
       "      <th>country</th>\n",
       "      <th>user_followers</th>\n",
       "      <th>user_following</th>\n",
       "      <th>track</th>\n",
       "    </tr>\n",
       "  </thead>\n",
       "  <tbody>\n",
       "    <tr>\n",
       "      <th>0</th>\n",
       "      <td>1084</td>\n",
       "      <td>2F Friendly Sessions</td>\n",
       "      <td>https://www.soundcloud.com/twofriendsfriendlys...</td>\n",
       "      <td>Yes</td>\n",
       "      <td>Two Friends</td>\n",
       "      <td>Los Angeles, United States</td>\n",
       "      <td>32536</td>\n",
       "      <td>5</td>\n",
       "      <td>57</td>\n",
       "    </tr>\n",
       "    <tr>\n",
       "      <th>1</th>\n",
       "      <td>1225</td>\n",
       "      <td>99xxxx</td>\n",
       "      <td>https://www.soundcloud.com/99xxxx</td>\n",
       "      <td>Not yet</td>\n",
       "      <td>NaN</td>\n",
       "      <td>NaN</td>\n",
       "      <td>286</td>\n",
       "      <td>0</td>\n",
       "      <td>4207</td>\n",
       "    </tr>\n",
       "    <tr>\n",
       "      <th>2</th>\n",
       "      <td>783</td>\n",
       "      <td>radiofluxo</td>\n",
       "      <td>https://www.soundcloud.com/radiofluxo</td>\n",
       "      <td>Not yet</td>\n",
       "      <td>NaN</td>\n",
       "      <td>NaN</td>\n",
       "      <td>408</td>\n",
       "      <td>1</td>\n",
       "      <td>27569</td>\n",
       "    </tr>\n",
       "    <tr>\n",
       "      <th>3</th>\n",
       "      <td>257</td>\n",
       "      <td>InheritanceTracks</td>\n",
       "      <td>https://www.soundcloud.com/inheritancetracks</td>\n",
       "      <td>Not yet</td>\n",
       "      <td>NaN</td>\n",
       "      <td>NaN</td>\n",
       "      <td>39179</td>\n",
       "      <td>194</td>\n",
       "      <td>23</td>\n",
       "    </tr>\n",
       "    <tr>\n",
       "      <th>4</th>\n",
       "      <td>1262</td>\n",
       "      <td>604recordsmusic</td>\n",
       "      <td>https://www.soundcloud.com/604recordsmusic</td>\n",
       "      <td>Not yet</td>\n",
       "      <td>604 Records</td>\n",
       "      <td>Vancouver, Canada</td>\n",
       "      <td>250</td>\n",
       "      <td>5</td>\n",
       "      <td>76</td>\n",
       "    </tr>\n",
       "  </tbody>\n",
       "</table>\n",
       "</div>"
      ],
      "text/plain": [
       "   user_id              username  \\\n",
       "0     1084  2F Friendly Sessions   \n",
       "1     1225                99xxxx   \n",
       "2      783            radiofluxo   \n",
       "3      257     InheritanceTracks   \n",
       "4     1262       604recordsmusic   \n",
       "\n",
       "                                            user_url confirm_owner  \\\n",
       "0  https://www.soundcloud.com/twofriendsfriendlys...           Yes   \n",
       "1                  https://www.soundcloud.com/99xxxx       Not yet   \n",
       "2              https://www.soundcloud.com/radiofluxo       Not yet   \n",
       "3       https://www.soundcloud.com/inheritancetracks       Not yet   \n",
       "4         https://www.soundcloud.com/604recordsmusic       Not yet   \n",
       "\n",
       "   detail_name                     country  user_followers  user_following  \\\n",
       "0  Two Friends  Los Angeles, United States           32536               5   \n",
       "1          NaN                         NaN             286               0   \n",
       "2          NaN                         NaN             408               1   \n",
       "3          NaN                         NaN           39179             194   \n",
       "4  604 Records           Vancouver, Canada             250               5   \n",
       "\n",
       "   track  \n",
       "0     57  \n",
       "1   4207  \n",
       "2  27569  \n",
       "3     23  \n",
       "4     76  "
      ]
     },
     "execution_count": 2,
     "metadata": {},
     "output_type": "execute_result"
    }
   ],
   "source": [
    "df = pd.read_csv('users_plus.csv')\n",
    "df.head()"
   ]
  },
  {
   "cell_type": "markdown",
   "id": "03c16386",
   "metadata": {},
   "source": [
    "#### Số lượng dòng và cột"
   ]
  },
  {
   "cell_type": "code",
   "execution_count": 3,
   "id": "380e25f7",
   "metadata": {},
   "outputs": [
    {
     "data": {
      "text/plain": [
       "(990, 9)"
      ]
     },
     "execution_count": 3,
     "metadata": {},
     "output_type": "execute_result"
    }
   ],
   "source": [
    "df.shape"
   ]
  },
  {
   "cell_type": "markdown",
   "id": "fa4ec901",
   "metadata": {},
   "source": [
    "Như vậy dữ liệu có 990 dòng và 9 cột"
   ]
  },
  {
   "cell_type": "markdown",
   "id": "3b2a3a24",
   "metadata": {},
   "source": [
    "- Ý nghĩa từng cột\n",
    "    - username: Tên người dùng\n",
    "    - user_url: Liên kết người dùng\n",
    "    - confirm_owner: Xác thực thông tin\n",
    "    - detail_name: Tên hiển thị\n",
    "    - country: Tên quốc gia\n",
    "    - user_followers: số người theo dõi \n",
    "    - user_following: số người đang theo dõi\n",
    "    - track: số lượng ca khúc"
   ]
  },
  {
   "cell_type": "markdown",
   "id": "f2c524c2",
   "metadata": {},
   "source": [
    "#### Kiểu dữ liệu"
   ]
  },
  {
   "cell_type": "code",
   "execution_count": 4,
   "id": "aba0a778",
   "metadata": {},
   "outputs": [
    {
     "name": "stdout",
     "output_type": "stream",
     "text": [
      "<class 'pandas.core.frame.DataFrame'>\n",
      "RangeIndex: 990 entries, 0 to 989\n",
      "Data columns (total 9 columns):\n",
      " #   Column          Non-Null Count  Dtype \n",
      "---  ------          --------------  ----- \n",
      " 0   user_id         990 non-null    int64 \n",
      " 1   username        990 non-null    object\n",
      " 2   user_url        990 non-null    object\n",
      " 3   confirm_owner   990 non-null    object\n",
      " 4   detail_name     517 non-null    object\n",
      " 5   country         679 non-null    object\n",
      " 6   user_followers  990 non-null    int64 \n",
      " 7   user_following  990 non-null    int64 \n",
      " 8   track           990 non-null    int64 \n",
      "dtypes: int64(4), object(5)\n",
      "memory usage: 69.7+ KB\n"
     ]
    }
   ],
   "source": [
    "df.info()"
   ]
  },
  {
   "cell_type": "markdown",
   "id": "f92b984a",
   "metadata": {},
   "source": [
    "- confirm_owers: chuyển thành kiểu dữ liệu 0,1"
   ]
  },
  {
   "cell_type": "code",
   "execution_count": 5,
   "id": "166099a4",
   "metadata": {},
   "outputs": [
    {
     "data": {
      "text/html": [
       "<div>\n",
       "<style scoped>\n",
       "    .dataframe tbody tr th:only-of-type {\n",
       "        vertical-align: middle;\n",
       "    }\n",
       "\n",
       "    .dataframe tbody tr th {\n",
       "        vertical-align: top;\n",
       "    }\n",
       "\n",
       "    .dataframe thead th {\n",
       "        text-align: right;\n",
       "    }\n",
       "</style>\n",
       "<table border=\"1\" class=\"dataframe\">\n",
       "  <thead>\n",
       "    <tr style=\"text-align: right;\">\n",
       "      <th></th>\n",
       "      <th>user_id</th>\n",
       "      <th>username</th>\n",
       "      <th>user_url</th>\n",
       "      <th>confirm_owner</th>\n",
       "      <th>detail_name</th>\n",
       "      <th>country</th>\n",
       "      <th>user_followers</th>\n",
       "      <th>user_following</th>\n",
       "      <th>track</th>\n",
       "    </tr>\n",
       "  </thead>\n",
       "  <tbody>\n",
       "    <tr>\n",
       "      <th>0</th>\n",
       "      <td>1084</td>\n",
       "      <td>2F Friendly Sessions</td>\n",
       "      <td>https://www.soundcloud.com/twofriendsfriendlys...</td>\n",
       "      <td>1</td>\n",
       "      <td>Two Friends</td>\n",
       "      <td>Los Angeles, United States</td>\n",
       "      <td>32536</td>\n",
       "      <td>5</td>\n",
       "      <td>57</td>\n",
       "    </tr>\n",
       "    <tr>\n",
       "      <th>1</th>\n",
       "      <td>1225</td>\n",
       "      <td>99xxxx</td>\n",
       "      <td>https://www.soundcloud.com/99xxxx</td>\n",
       "      <td>0</td>\n",
       "      <td>NaN</td>\n",
       "      <td>NaN</td>\n",
       "      <td>286</td>\n",
       "      <td>0</td>\n",
       "      <td>4207</td>\n",
       "    </tr>\n",
       "    <tr>\n",
       "      <th>2</th>\n",
       "      <td>783</td>\n",
       "      <td>radiofluxo</td>\n",
       "      <td>https://www.soundcloud.com/radiofluxo</td>\n",
       "      <td>0</td>\n",
       "      <td>NaN</td>\n",
       "      <td>NaN</td>\n",
       "      <td>408</td>\n",
       "      <td>1</td>\n",
       "      <td>27569</td>\n",
       "    </tr>\n",
       "    <tr>\n",
       "      <th>3</th>\n",
       "      <td>257</td>\n",
       "      <td>InheritanceTracks</td>\n",
       "      <td>https://www.soundcloud.com/inheritancetracks</td>\n",
       "      <td>0</td>\n",
       "      <td>NaN</td>\n",
       "      <td>NaN</td>\n",
       "      <td>39179</td>\n",
       "      <td>194</td>\n",
       "      <td>23</td>\n",
       "    </tr>\n",
       "    <tr>\n",
       "      <th>4</th>\n",
       "      <td>1262</td>\n",
       "      <td>604recordsmusic</td>\n",
       "      <td>https://www.soundcloud.com/604recordsmusic</td>\n",
       "      <td>0</td>\n",
       "      <td>604 Records</td>\n",
       "      <td>Vancouver, Canada</td>\n",
       "      <td>250</td>\n",
       "      <td>5</td>\n",
       "      <td>76</td>\n",
       "    </tr>\n",
       "  </tbody>\n",
       "</table>\n",
       "</div>"
      ],
      "text/plain": [
       "   user_id              username  \\\n",
       "0     1084  2F Friendly Sessions   \n",
       "1     1225                99xxxx   \n",
       "2      783            radiofluxo   \n",
       "3      257     InheritanceTracks   \n",
       "4     1262       604recordsmusic   \n",
       "\n",
       "                                            user_url  confirm_owner  \\\n",
       "0  https://www.soundcloud.com/twofriendsfriendlys...              1   \n",
       "1                  https://www.soundcloud.com/99xxxx              0   \n",
       "2              https://www.soundcloud.com/radiofluxo              0   \n",
       "3       https://www.soundcloud.com/inheritancetracks              0   \n",
       "4         https://www.soundcloud.com/604recordsmusic              0   \n",
       "\n",
       "   detail_name                     country  user_followers  user_following  \\\n",
       "0  Two Friends  Los Angeles, United States           32536               5   \n",
       "1          NaN                         NaN             286               0   \n",
       "2          NaN                         NaN             408               1   \n",
       "3          NaN                         NaN           39179             194   \n",
       "4  604 Records           Vancouver, Canada             250               5   \n",
       "\n",
       "   track  \n",
       "0     57  \n",
       "1   4207  \n",
       "2  27569  \n",
       "3     23  \n",
       "4     76  "
      ]
     },
     "execution_count": 5,
     "metadata": {},
     "output_type": "execute_result"
    }
   ],
   "source": [
    "dic = {'Yes' : 1, 'Not yet' : 0}\n",
    "df.replace({'confirm_owner': dic}).head()"
   ]
  },
  {
   "cell_type": "markdown",
   "id": "6ab429fa",
   "metadata": {},
   "source": [
    "#### Kiểm tra trùng lắp"
   ]
  },
  {
   "cell_type": "code",
   "execution_count": 6,
   "id": "81bd04dc",
   "metadata": {},
   "outputs": [
    {
     "name": "stdout",
     "output_type": "stream",
     "text": [
      "0\n"
     ]
    }
   ],
   "source": [
    "num_duplicated_rows = df.index.duplicated().sum()\n",
    "print(num_duplicated_rows)"
   ]
  },
  {
   "cell_type": "markdown",
   "id": "2cd974b7",
   "metadata": {},
   "source": [
    "#### Số lượng thiếu"
   ]
  },
  {
   "cell_type": "code",
   "execution_count": 7,
   "id": "16abe56b",
   "metadata": {},
   "outputs": [
    {
     "data": {
      "text/plain": [
       "user_id             0\n",
       "username            0\n",
       "user_url            0\n",
       "confirm_owner       0\n",
       "detail_name       473\n",
       "country           311\n",
       "user_followers      0\n",
       "user_following      0\n",
       "track               0\n",
       "dtype: int64"
      ]
     },
     "execution_count": 7,
     "metadata": {},
     "output_type": "execute_result"
    }
   ],
   "source": [
    "df.isnull().sum()"
   ]
  },
  {
   "cell_type": "markdown",
   "id": "0eb0cff8",
   "metadata": {},
   "source": [
    "- Chỉ có cột detail_name với country là thiếu,vì mang kiểu str, ta sẽ sửa lại với 'Missing'"
   ]
  },
  {
   "cell_type": "code",
   "execution_count": 8,
   "id": "948732f9",
   "metadata": {},
   "outputs": [
    {
     "data": {
      "text/plain": [
       "user_id           0\n",
       "username          0\n",
       "user_url          0\n",
       "confirm_owner     0\n",
       "detail_name       0\n",
       "country           0\n",
       "user_followers    0\n",
       "user_following    0\n",
       "track             0\n",
       "dtype: int64"
      ]
     },
     "execution_count": 8,
     "metadata": {},
     "output_type": "execute_result"
    }
   ],
   "source": [
    "df = df.fillna(\"Missing\")\n",
    "df.isnull().sum()"
   ]
  },
  {
   "cell_type": "markdown",
   "id": "4e37db86",
   "metadata": {},
   "source": [
    "#### Thông số từng cột"
   ]
  },
  {
   "cell_type": "code",
   "execution_count": 9,
   "id": "7fe87167",
   "metadata": {},
   "outputs": [
    {
     "data": {
      "text/html": [
       "<div>\n",
       "<style scoped>\n",
       "    .dataframe tbody tr th:only-of-type {\n",
       "        vertical-align: middle;\n",
       "    }\n",
       "\n",
       "    .dataframe tbody tr th {\n",
       "        vertical-align: top;\n",
       "    }\n",
       "\n",
       "    .dataframe thead th {\n",
       "        text-align: right;\n",
       "    }\n",
       "</style>\n",
       "<table border=\"1\" class=\"dataframe\">\n",
       "  <thead>\n",
       "    <tr style=\"text-align: right;\">\n",
       "      <th></th>\n",
       "      <th>user_id</th>\n",
       "      <th>user_followers</th>\n",
       "      <th>user_following</th>\n",
       "      <th>track</th>\n",
       "    </tr>\n",
       "  </thead>\n",
       "  <tbody>\n",
       "    <tr>\n",
       "      <th>count</th>\n",
       "      <td>990.000000</td>\n",
       "      <td>9.900000e+02</td>\n",
       "      <td>990.000000</td>\n",
       "      <td>990.000000</td>\n",
       "    </tr>\n",
       "    <tr>\n",
       "      <th>mean</th>\n",
       "      <td>703.625253</td>\n",
       "      <td>1.433463e+05</td>\n",
       "      <td>100.308081</td>\n",
       "      <td>1542.721212</td>\n",
       "    </tr>\n",
       "    <tr>\n",
       "      <th>std</th>\n",
       "      <td>390.206865</td>\n",
       "      <td>4.342568e+05</td>\n",
       "      <td>300.068005</td>\n",
       "      <td>5096.519497</td>\n",
       "    </tr>\n",
       "    <tr>\n",
       "      <th>min</th>\n",
       "      <td>1.000000</td>\n",
       "      <td>0.000000e+00</td>\n",
       "      <td>0.000000</td>\n",
       "      <td>0.000000</td>\n",
       "    </tr>\n",
       "    <tr>\n",
       "      <th>25%</th>\n",
       "      <td>369.500000</td>\n",
       "      <td>7.195000e+02</td>\n",
       "      <td>0.000000</td>\n",
       "      <td>6.000000</td>\n",
       "    </tr>\n",
       "    <tr>\n",
       "      <th>50%</th>\n",
       "      <td>702.500000</td>\n",
       "      <td>9.531000e+03</td>\n",
       "      <td>4.000000</td>\n",
       "      <td>48.000000</td>\n",
       "    </tr>\n",
       "    <tr>\n",
       "      <th>75%</th>\n",
       "      <td>1034.000000</td>\n",
       "      <td>7.351900e+04</td>\n",
       "      <td>44.000000</td>\n",
       "      <td>498.500000</td>\n",
       "    </tr>\n",
       "    <tr>\n",
       "      <th>max</th>\n",
       "      <td>1370.000000</td>\n",
       "      <td>5.120776e+06</td>\n",
       "      <td>2005.000000</td>\n",
       "      <td>68085.000000</td>\n",
       "    </tr>\n",
       "  </tbody>\n",
       "</table>\n",
       "</div>"
      ],
      "text/plain": [
       "           user_id  user_followers  user_following         track\n",
       "count   990.000000    9.900000e+02      990.000000    990.000000\n",
       "mean    703.625253    1.433463e+05      100.308081   1542.721212\n",
       "std     390.206865    4.342568e+05      300.068005   5096.519497\n",
       "min       1.000000    0.000000e+00        0.000000      0.000000\n",
       "25%     369.500000    7.195000e+02        0.000000      6.000000\n",
       "50%     702.500000    9.531000e+03        4.000000     48.000000\n",
       "75%    1034.000000    7.351900e+04       44.000000    498.500000\n",
       "max    1370.000000    5.120776e+06     2005.000000  68085.000000"
      ]
     },
     "execution_count": 9,
     "metadata": {},
     "output_type": "execute_result"
    }
   ],
   "source": [
    "df.describe()"
   ]
  },
  {
   "cell_type": "markdown",
   "id": "06886e73",
   "metadata": {},
   "source": [
    "#### Outliers"
   ]
  },
  {
   "cell_type": "markdown",
   "id": "da7b9378",
   "metadata": {},
   "source": [
    "Giả sử rằng các giá trị trong một trường dữ liệu tuân theo phân phối chuẩn, ta có thể áp dụng quy tắc $3 \\sigma$ cho phân phối chuẩn.\n",
    "\n",
    "Trong phân phối chuẩn, giả sử $\\mu$ là kỳ vọng và $\\sigma$ là độ lệch chuẩn.\n",
    "Quy tắc $3 \\sigma$ cho phân phối chuẩn nói rằng:\n",
    "\n",
    "* 68% các điểm dữ liệu nằm trong khoảng $\\mu \\pm \\sigma$\n",
    "* 95% các điểm dữ liệu nằm trong khoảng $\\mu \\pm 2\\sigma$\n",
    "* 99.7% các điểm dữ liệu nằm trong khoảng $\\mu \\pm 3\\sigma$\n",
    "\n",
    "Với một điểm dữ liệu $x$, z score của nó được tính bởi:\n",
    "\n",
    "$$\n",
    "\\frac{x - \\mu}{\\sigma}\n",
    "$$\n",
    "\n",
    "Những điểm có z score nằm ngoài đoạn $[-3, 3]$ có thể được coi là các điểm ngoại lệ. Biến đổi toán học một chút, việc này tương đương với việc các điểm nằm ngoài đoạn $[\\mu - 3\\sigma, \\mu + 3\\sigma]$ được coi là các điểm ngoại lệ."
   ]
  },
  {
   "cell_type": "markdown",
   "id": "1cabd5f5",
   "metadata": {},
   "source": [
    "##### Kiểm tra 3 cột mang giá trị numeric là user_followers, user_following, track"
   ]
  },
  {
   "cell_type": "markdown",
   "id": "a835bb97",
   "metadata": {},
   "source": [
    "user_followers"
   ]
  },
  {
   "cell_type": "code",
   "execution_count": 10,
   "id": "223073fe",
   "metadata": {},
   "outputs": [
    {
     "data": {
      "text/plain": [
       "<seaborn.axisgrid.FacetGrid at 0x7f6948b44e50>"
      ]
     },
     "execution_count": 10,
     "metadata": {},
     "output_type": "execute_result"
    },
    {
     "data": {
      "image/png": "[encoded data removed]",
      "text/plain": [
       "<Figure size 500x500 with 1 Axes>"
      ]
     },
     "metadata": {},
     "output_type": "display_data"
    }
   ],
   "source": [
    "sns.displot(df['user_followers'])"
   ]
  },
  {
   "cell_type": "code",
   "execution_count": 11,
   "id": "2886c169",
   "metadata": {},
   "outputs": [
    {
     "name": "stderr",
     "output_type": "stream",
     "text": [
      "/root/miniconda3/envs/min_ds-env/lib/python3.10/site-packages/seaborn/_decorators.py:36: FutureWarning: Pass the following variable as a keyword arg: x. From version 0.12, the only valid positional argument will be `data`, and passing other arguments without an explicit keyword will result in an error or misinterpretation.\n",
      "  warnings.warn(\n"
     ]
    },
    {
     "data": {
      "text/plain": [
       "<AxesSubplot:xlabel='user_followers'>"
      ]
     },
     "execution_count": 11,
     "metadata": {},
     "output_type": "execute_result"
    },
    {
     "data": {
      "image/png": "[encoded data removed]",
      "text/plain": [
       "<Figure size 640x480 with 1 Axes>"
      ]
     },
     "metadata": {},
     "output_type": "display_data"
    }
   ],
   "source": [
    "sns.boxplot(df['user_followers'])"
   ]
  },
  {
   "cell_type": "code",
   "execution_count": 12,
   "id": "3182fe60",
   "metadata": {},
   "outputs": [
    {
     "name": "stdout",
     "output_type": "stream",
     "text": [
      "upper limit: 1446116.7718657553\n",
      "lower limit: -1159424.0769162602\n"
     ]
    }
   ],
   "source": [
    "upper_limit = df['user_followers'].mean() + 3*df['user_followers'].std()\n",
    "lower_limit = df['user_followers'].mean() - 3*df['user_followers'].std()\n",
    "print('upper limit:', upper_limit)\n",
    "print('lower limit:', lower_limit)"
   ]
  },
  {
   "cell_type": "code",
   "execution_count": 13,
   "id": "98bfaedf",
   "metadata": {},
   "outputs": [
    {
     "data": {
      "text/html": [
       "<div>\n",
       "<style scoped>\n",
       "    .dataframe tbody tr th:only-of-type {\n",
       "        vertical-align: middle;\n",
       "    }\n",
       "\n",
       "    .dataframe tbody tr th {\n",
       "        vertical-align: top;\n",
       "    }\n",
       "\n",
       "    .dataframe thead th {\n",
       "        text-align: right;\n",
       "    }\n",
       "</style>\n",
       "<table border=\"1\" class=\"dataframe\">\n",
       "  <thead>\n",
       "    <tr style=\"text-align: right;\">\n",
       "      <th></th>\n",
       "      <th>user_id</th>\n",
       "      <th>username</th>\n",
       "      <th>user_url</th>\n",
       "      <th>confirm_owner</th>\n",
       "      <th>detail_name</th>\n",
       "      <th>country</th>\n",
       "      <th>user_followers</th>\n",
       "      <th>user_following</th>\n",
       "      <th>track</th>\n",
       "    </tr>\n",
       "  </thead>\n",
       "  <tbody>\n",
       "    <tr>\n",
       "      <th>49</th>\n",
       "      <td>276</td>\n",
       "      <td>Okeh Records</td>\n",
       "      <td>https://www.soundcloud.com/okeh-records</td>\n",
       "      <td>Yes</td>\n",
       "      <td>Missing</td>\n",
       "      <td>New York, United States</td>\n",
       "      <td>4228722</td>\n",
       "      <td>0</td>\n",
       "      <td>0</td>\n",
       "    </tr>\n",
       "    <tr>\n",
       "      <th>195</th>\n",
       "      <td>241</td>\n",
       "      <td>IAMBENGA</td>\n",
       "      <td>https://www.soundcloud.com/illuminate_music</td>\n",
       "      <td>Yes</td>\n",
       "      <td>Benga Adejumo</td>\n",
       "      <td>London</td>\n",
       "      <td>3378275</td>\n",
       "      <td>7</td>\n",
       "      <td>0</td>\n",
       "    </tr>\n",
       "    <tr>\n",
       "      <th>219</th>\n",
       "      <td>936</td>\n",
       "      <td>Xavier de Maistre</td>\n",
       "      <td>https://www.soundcloud.com/xavier-de-maistre</td>\n",
       "      <td>Not yet</td>\n",
       "      <td>Xavier de Maistre</td>\n",
       "      <td>Nice, France</td>\n",
       "      <td>1985172</td>\n",
       "      <td>0</td>\n",
       "      <td>19</td>\n",
       "    </tr>\n",
       "    <tr>\n",
       "      <th>292</th>\n",
       "      <td>1172</td>\n",
       "      <td>50 Cent</td>\n",
       "      <td>https://www.soundcloud.com/50_cent</td>\n",
       "      <td>Yes</td>\n",
       "      <td>50 Cent</td>\n",
       "      <td>New York City , United States</td>\n",
       "      <td>1892429</td>\n",
       "      <td>4</td>\n",
       "      <td>371</td>\n",
       "    </tr>\n",
       "    <tr>\n",
       "      <th>341</th>\n",
       "      <td>126</td>\n",
       "      <td>ali</td>\n",
       "      <td>https://www.soundcloud.com/alithegreatxo</td>\n",
       "      <td>Yes</td>\n",
       "      <td>Missing</td>\n",
       "      <td>Missing</td>\n",
       "      <td>2655183</td>\n",
       "      <td>0</td>\n",
       "      <td>37</td>\n",
       "    </tr>\n",
       "  </tbody>\n",
       "</table>\n",
       "</div>"
      ],
      "text/plain": [
       "     user_id           username                                      user_url  \\\n",
       "49       276       Okeh Records       https://www.soundcloud.com/okeh-records   \n",
       "195      241           IAMBENGA   https://www.soundcloud.com/illuminate_music   \n",
       "219      936  Xavier de Maistre  https://www.soundcloud.com/xavier-de-maistre   \n",
       "292     1172            50 Cent            https://www.soundcloud.com/50_cent   \n",
       "341      126                ali      https://www.soundcloud.com/alithegreatxo   \n",
       "\n",
       "    confirm_owner        detail_name                        country  \\\n",
       "49            Yes            Missing        New York, United States   \n",
       "195           Yes      Benga Adejumo                         London   \n",
       "219       Not yet  Xavier de Maistre                   Nice, France   \n",
       "292           Yes            50 Cent  New York City , United States   \n",
       "341           Yes            Missing                        Missing   \n",
       "\n",
       "     user_followers  user_following  track  \n",
       "49          4228722               0      0  \n",
       "195         3378275               7      0  \n",
       "219         1985172               0     19  \n",
       "292         1892429               4    371  \n",
       "341         2655183               0     37  "
      ]
     },
     "execution_count": 13,
     "metadata": {},
     "output_type": "execute_result"
    }
   ],
   "source": [
    "df.loc[(df['user_followers'] > upper_limit) | (df['user_followers']< lower_limit)].head()"
   ]
  },
  {
   "cell_type": "code",
   "execution_count": 14,
   "id": "fd4f4f4a",
   "metadata": {},
   "outputs": [
    {
     "name": "stdout",
     "output_type": "stream",
     "text": [
      "before removing outliers: 990\n",
      "after removing outliers: 974\n",
      "outliers: 16\n"
     ]
    }
   ],
   "source": [
    "new_df = df.loc[(df['user_followers'] <= upper_limit) & (df['user_followers'] >= lower_limit)]\n",
    "print('before removing outliers:', len(df))\n",
    "print('after removing outliers:',len(new_df))\n",
    "print('outliers:', len(df)-len(new_df))"
   ]
  },
  {
   "cell_type": "markdown",
   "id": "d4e154a8",
   "metadata": {},
   "source": [
    "user_following"
   ]
  },
  {
   "cell_type": "code",
   "execution_count": 15,
   "id": "f1e7b5be",
   "metadata": {},
   "outputs": [
    {
     "data": {
      "text/plain": [
       "<seaborn.axisgrid.FacetGrid at 0x7f6948b44c70>"
      ]
     },
     "execution_count": 15,
     "metadata": {},
     "output_type": "execute_result"
    },
    {
     "data": {
      "image/png": "[encoded data removed]",
      "text/plain": [
       "<Figure size 500x500 with 1 Axes>"
      ]
     },
     "metadata": {},
     "output_type": "display_data"
    }
   ],
   "source": [
    "sns.displot(df['user_following'])"
   ]
  },
  {
   "cell_type": "code",
   "execution_count": 16,
   "id": "2354f8c7",
   "metadata": {},
   "outputs": [
    {
     "name": "stderr",
     "output_type": "stream",
     "text": [
      "/root/miniconda3/envs/min_ds-env/lib/python3.10/site-packages/seaborn/_decorators.py:36: FutureWarning: Pass the following variable as a keyword arg: x. From version 0.12, the only valid positional argument will be `data`, and passing other arguments without an explicit keyword will result in an error or misinterpretation.\n",
      "  warnings.warn(\n"
     ]
    },
    {
     "data": {
      "text/plain": [
       "<AxesSubplot:xlabel='user_following'>"
      ]
     },
     "execution_count": 16,
     "metadata": {},
     "output_type": "execute_result"
    },
    {
     "data": {
      "image/png": "[encoded data removed]",
      "text/plain": [
       "<Figure size 640x480 with 1 Axes>"
      ]
     },
     "metadata": {},
     "output_type": "display_data"
    }
   ],
   "source": [
    "sns.boxplot(df['user_following'])"
   ]
  },
  {
   "cell_type": "code",
   "execution_count": 17,
   "id": "76184d78",
   "metadata": {},
   "outputs": [
    {
     "name": "stdout",
     "output_type": "stream",
     "text": [
      "upper limit: 1008.6943402734403\n",
      "lower limit: -804.8873587539331\n"
     ]
    }
   ],
   "source": [
    "upper_limit = new_df['user_following'].mean() + 3*new_df['user_following'].std()\n",
    "lower_limit = new_df['user_following'].mean() - 3*new_df['user_following'].std()\n",
    "print('upper limit:', upper_limit)\n",
    "print('lower limit:', lower_limit)"
   ]
  },
  {
   "cell_type": "code",
   "execution_count": 18,
   "id": "d23713a2",
   "metadata": {},
   "outputs": [
    {
     "data": {
      "text/html": [
       "<div>\n",
       "<style scoped>\n",
       "    .dataframe tbody tr th:only-of-type {\n",
       "        vertical-align: middle;\n",
       "    }\n",
       "\n",
       "    .dataframe tbody tr th {\n",
       "        vertical-align: top;\n",
       "    }\n",
       "\n",
       "    .dataframe thead th {\n",
       "        text-align: right;\n",
       "    }\n",
       "</style>\n",
       "<table border=\"1\" class=\"dataframe\">\n",
       "  <thead>\n",
       "    <tr style=\"text-align: right;\">\n",
       "      <th></th>\n",
       "      <th>user_id</th>\n",
       "      <th>username</th>\n",
       "      <th>user_url</th>\n",
       "      <th>confirm_owner</th>\n",
       "      <th>detail_name</th>\n",
       "      <th>country</th>\n",
       "      <th>user_followers</th>\n",
       "      <th>user_following</th>\n",
       "      <th>track</th>\n",
       "    </tr>\n",
       "  </thead>\n",
       "  <tbody>\n",
       "    <tr>\n",
       "      <th>46</th>\n",
       "      <td>666</td>\n",
       "      <td>Feiyr</td>\n",
       "      <td>https://www.soundcloud.com/feiyr</td>\n",
       "      <td>Not yet</td>\n",
       "      <td>Missing</td>\n",
       "      <td>Germany</td>\n",
       "      <td>4995</td>\n",
       "      <td>1899</td>\n",
       "      <td>79</td>\n",
       "    </tr>\n",
       "    <tr>\n",
       "      <th>85</th>\n",
       "      <td>1176</td>\n",
       "      <td>5COTT (official)</td>\n",
       "      <td>https://www.soundcloud.com/5cott</td>\n",
       "      <td>Not yet</td>\n",
       "      <td>Missing</td>\n",
       "      <td>Missing</td>\n",
       "      <td>876285</td>\n",
       "      <td>1144</td>\n",
       "      <td>8</td>\n",
       "    </tr>\n",
       "    <tr>\n",
       "      <th>93</th>\n",
       "      <td>102</td>\n",
       "      <td>Chill Nation</td>\n",
       "      <td>https://www.soundcloud.com/allchillnation</td>\n",
       "      <td>Yes</td>\n",
       "      <td>Missing</td>\n",
       "      <td>Worldwide</td>\n",
       "      <td>293637</td>\n",
       "      <td>1309</td>\n",
       "      <td>22</td>\n",
       "    </tr>\n",
       "    <tr>\n",
       "      <th>107</th>\n",
       "      <td>726</td>\n",
       "      <td>07-668</td>\n",
       "      <td>https://www.soundcloud.com/07-668</td>\n",
       "      <td>Not yet</td>\n",
       "      <td>Missing</td>\n",
       "      <td>Hamilton FMG , New Zealand</td>\n",
       "      <td>2160</td>\n",
       "      <td>2005</td>\n",
       "      <td>15</td>\n",
       "    </tr>\n",
       "    <tr>\n",
       "      <th>154</th>\n",
       "      <td>190</td>\n",
       "      <td>Knowledge Is Power Promo</td>\n",
       "      <td>https://www.soundcloud.com/knowledge-is-power-...</td>\n",
       "      <td>Not yet</td>\n",
       "      <td>Jack  Matthews</td>\n",
       "      <td>oxford, United Kingdom</td>\n",
       "      <td>5202</td>\n",
       "      <td>1974</td>\n",
       "      <td>2504</td>\n",
       "    </tr>\n",
       "  </tbody>\n",
       "</table>\n",
       "</div>"
      ],
      "text/plain": [
       "     user_id                  username  \\\n",
       "46       666                     Feiyr   \n",
       "85      1176          5COTT (official)   \n",
       "93       102              Chill Nation   \n",
       "107      726                    07-668   \n",
       "154      190  Knowledge Is Power Promo   \n",
       "\n",
       "                                              user_url confirm_owner  \\\n",
       "46                    https://www.soundcloud.com/feiyr       Not yet   \n",
       "85                    https://www.soundcloud.com/5cott       Not yet   \n",
       "93           https://www.soundcloud.com/allchillnation           Yes   \n",
       "107                  https://www.soundcloud.com/07-668       Not yet   \n",
       "154  https://www.soundcloud.com/knowledge-is-power-...       Not yet   \n",
       "\n",
       "        detail_name                     country  user_followers  \\\n",
       "46          Missing                     Germany            4995   \n",
       "85          Missing                     Missing          876285   \n",
       "93          Missing                   Worldwide          293637   \n",
       "107         Missing  Hamilton FMG , New Zealand            2160   \n",
       "154  Jack  Matthews      oxford, United Kingdom            5202   \n",
       "\n",
       "     user_following  track  \n",
       "46             1899     79  \n",
       "85             1144      8  \n",
       "93             1309     22  \n",
       "107            2005     15  \n",
       "154            1974   2504  "
      ]
     },
     "execution_count": 18,
     "metadata": {},
     "output_type": "execute_result"
    }
   ],
   "source": [
    "new_df.loc[(new_df['user_following'] > upper_limit) | (new_df['user_following']< lower_limit)].head()"
   ]
  },
  {
   "cell_type": "code",
   "execution_count": 19,
   "id": "35c882ad",
   "metadata": {},
   "outputs": [
    {
     "name": "stdout",
     "output_type": "stream",
     "text": [
      "before removing outliers: 974\n",
      "after removing outliers: 944\n",
      "outliers: 30\n"
     ]
    }
   ],
   "source": [
    "new_df1 = new_df.loc[(new_df['user_following'] <= upper_limit) & (new_df['user_following'] >= lower_limit)]\n",
    "print('before removing outliers:', len(new_df))\n",
    "print('after removing outliers:',len(new_df1))\n",
    "print('outliers:', len(new_df)-len(new_df1))"
   ]
  },
  {
   "cell_type": "markdown",
   "id": "e04144d4",
   "metadata": {},
   "source": [
    "track"
   ]
  },
  {
   "cell_type": "code",
   "execution_count": 20,
   "id": "01ac7cd5",
   "metadata": {},
   "outputs": [
    {
     "data": {
      "text/plain": [
       "<seaborn.axisgrid.FacetGrid at 0x7f6947d46860>"
      ]
     },
     "execution_count": 20,
     "metadata": {},
     "output_type": "execute_result"
    },
    {
     "data": {
      "image/png": "[encoded data removed]",
      "text/plain": [
       "<Figure size 500x500 with 1 Axes>"
      ]
     },
     "metadata": {},
     "output_type": "display_data"
    }
   ],
   "source": [
    "sns.displot(new_df1['track'])"
   ]
  },
  {
   "cell_type": "code",
   "execution_count": 21,
   "id": "d377dec6",
   "metadata": {},
   "outputs": [
    {
     "name": "stderr",
     "output_type": "stream",
     "text": [
      "/root/miniconda3/envs/min_ds-env/lib/python3.10/site-packages/seaborn/_decorators.py:36: FutureWarning: Pass the following variable as a keyword arg: x. From version 0.12, the only valid positional argument will be `data`, and passing other arguments without an explicit keyword will result in an error or misinterpretation.\n",
      "  warnings.warn(\n"
     ]
    },
    {
     "data": {
      "text/plain": [
       "<AxesSubplot:xlabel='track'>"
      ]
     },
     "execution_count": 21,
     "metadata": {},
     "output_type": "execute_result"
    },
    {
     "data": {
      "image/png": "[encoded data removed]",
      "text/plain": [
       "<Figure size 640x480 with 1 Axes>"
      ]
     },
     "metadata": {},
     "output_type": "display_data"
    }
   ],
   "source": [
    "sns.boxplot(new_df1['track'])"
   ]
  },
  {
   "cell_type": "code",
   "execution_count": 22,
   "id": "e4518490",
   "metadata": {},
   "outputs": [
    {
     "name": "stdout",
     "output_type": "stream",
     "text": [
      "upper limit: 425.30117193579963\n",
      "lower limit: -317.6655787154606\n"
     ]
    }
   ],
   "source": [
    "upper_limit = new_df1['user_following'].mean() + 3*new_df1['user_following'].std()\n",
    "lower_limit = new_df1['user_following'].mean() - 3*new_df1['user_following'].std()\n",
    "print('upper limit:', upper_limit)\n",
    "print('lower limit:', lower_limit)"
   ]
  },
  {
   "cell_type": "code",
   "execution_count": 23,
   "id": "71fb525a",
   "metadata": {},
   "outputs": [
    {
     "data": {
      "text/html": [
       "<div>\n",
       "<style scoped>\n",
       "    .dataframe tbody tr th:only-of-type {\n",
       "        vertical-align: middle;\n",
       "    }\n",
       "\n",
       "    .dataframe tbody tr th {\n",
       "        vertical-align: top;\n",
       "    }\n",
       "\n",
       "    .dataframe thead th {\n",
       "        text-align: right;\n",
       "    }\n",
       "</style>\n",
       "<table border=\"1\" class=\"dataframe\">\n",
       "  <thead>\n",
       "    <tr style=\"text-align: right;\">\n",
       "      <th></th>\n",
       "      <th>user_id</th>\n",
       "      <th>username</th>\n",
       "      <th>user_url</th>\n",
       "      <th>confirm_owner</th>\n",
       "      <th>detail_name</th>\n",
       "      <th>country</th>\n",
       "      <th>user_followers</th>\n",
       "      <th>user_following</th>\n",
       "      <th>track</th>\n",
       "    </tr>\n",
       "  </thead>\n",
       "  <tbody>\n",
       "    <tr>\n",
       "      <th>31</th>\n",
       "      <td>1211</td>\n",
       "      <td>5/8 : radio</td>\n",
       "      <td>https://www.soundcloud.com/5na8radio</td>\n",
       "      <td>Not yet</td>\n",
       "      <td>Missing</td>\n",
       "      <td>Missing</td>\n",
       "      <td>3324</td>\n",
       "      <td>509</td>\n",
       "      <td>411</td>\n",
       "    </tr>\n",
       "    <tr>\n",
       "      <th>83</th>\n",
       "      <td>1185</td>\n",
       "      <td>50 Carrot</td>\n",
       "      <td>https://www.soundcloud.com/50carrot-dubstep</td>\n",
       "      <td>Yes</td>\n",
       "      <td>50  Carrot</td>\n",
       "      <td>Leeds, United Kingdom</td>\n",
       "      <td>64147</td>\n",
       "      <td>775</td>\n",
       "      <td>69</td>\n",
       "    </tr>\n",
       "    <tr>\n",
       "      <th>90</th>\n",
       "      <td>267</td>\n",
       "      <td>InfectiousPR</td>\n",
       "      <td>https://www.soundcloud.com/infectiouspr</td>\n",
       "      <td>Not yet</td>\n",
       "      <td>Missing</td>\n",
       "      <td>Bristol, United Kingdom</td>\n",
       "      <td>442</td>\n",
       "      <td>461</td>\n",
       "      <td>0</td>\n",
       "    </tr>\n",
       "    <tr>\n",
       "      <th>116</th>\n",
       "      <td>1285</td>\n",
       "      <td>6ig angu5 Selected</td>\n",
       "      <td>https://www.soundcloud.com/6ig-angu5-selected</td>\n",
       "      <td>Yes</td>\n",
       "      <td>Digital Record Label</td>\n",
       "      <td>In Between 20 &amp; 20,000</td>\n",
       "      <td>20747</td>\n",
       "      <td>543</td>\n",
       "      <td>9</td>\n",
       "    </tr>\n",
       "    <tr>\n",
       "      <th>162</th>\n",
       "      <td>1135</td>\n",
       "      <td>4B</td>\n",
       "      <td>https://www.soundcloud.com/dj4b</td>\n",
       "      <td>Yes</td>\n",
       "      <td>DJ 4B</td>\n",
       "      <td>Jersey</td>\n",
       "      <td>136028</td>\n",
       "      <td>706</td>\n",
       "      <td>107</td>\n",
       "    </tr>\n",
       "  </tbody>\n",
       "</table>\n",
       "</div>"
      ],
      "text/plain": [
       "     user_id            username  \\\n",
       "31      1211         5/8 : radio   \n",
       "83      1185           50 Carrot   \n",
       "90       267        InfectiousPR   \n",
       "116     1285  6ig angu5 Selected   \n",
       "162     1135                  4B   \n",
       "\n",
       "                                          user_url confirm_owner  \\\n",
       "31            https://www.soundcloud.com/5na8radio       Not yet   \n",
       "83     https://www.soundcloud.com/50carrot-dubstep           Yes   \n",
       "90         https://www.soundcloud.com/infectiouspr       Not yet   \n",
       "116  https://www.soundcloud.com/6ig-angu5-selected           Yes   \n",
       "162                https://www.soundcloud.com/dj4b           Yes   \n",
       "\n",
       "              detail_name                  country  user_followers  \\\n",
       "31                Missing                  Missing            3324   \n",
       "83             50  Carrot    Leeds, United Kingdom           64147   \n",
       "90                Missing  Bristol, United Kingdom             442   \n",
       "116  Digital Record Label   In Between 20 & 20,000           20747   \n",
       "162                 DJ 4B                   Jersey          136028   \n",
       "\n",
       "     user_following  track  \n",
       "31              509    411  \n",
       "83              775     69  \n",
       "90              461      0  \n",
       "116             543      9  \n",
       "162             706    107  "
      ]
     },
     "execution_count": 23,
     "metadata": {},
     "output_type": "execute_result"
    }
   ],
   "source": [
    "new_df1.loc[(new_df1['user_following'] > upper_limit) | (new_df1['user_following']< lower_limit)].head()"
   ]
  },
  {
   "cell_type": "code",
   "execution_count": 24,
   "id": "bc25144b",
   "metadata": {},
   "outputs": [
    {
     "name": "stdout",
     "output_type": "stream",
     "text": [
      "before removing outliers: 944\n",
      "after removing outliers: 920\n",
      "outliers: 24\n"
     ]
    }
   ],
   "source": [
    "new_df2 = new_df1.loc[(new_df1['user_following'] <= upper_limit) & (new_df1['user_following'] >= lower_limit)]\n",
    "print('before removing outliers:', len(new_df1))\n",
    "print('after removing outliers:',len(new_df2))\n",
    "print('outliers:', len(new_df1)-len(new_df2))"
   ]
  },
  {
   "cell_type": "markdown",
   "id": "97401c76",
   "metadata": {},
   "source": [
    "#### Visualize"
   ]
  },
  {
   "cell_type": "markdown",
   "id": "09726190",
   "metadata": {},
   "source": [
    "##### Top 10 người có nhiều lượt theo dõi nhất"
   ]
  },
  {
   "cell_type": "code",
   "execution_count": 25,
   "id": "c2a9ce76",
   "metadata": {},
   "outputs": [
    {
     "data": {
      "text/html": [
       "<div>\n",
       "<style scoped>\n",
       "    .dataframe tbody tr th:only-of-type {\n",
       "        vertical-align: middle;\n",
       "    }\n",
       "\n",
       "    .dataframe tbody tr th {\n",
       "        vertical-align: top;\n",
       "    }\n",
       "\n",
       "    .dataframe thead th {\n",
       "        text-align: right;\n",
       "    }\n",
       "</style>\n",
       "<table border=\"1\" class=\"dataframe\">\n",
       "  <thead>\n",
       "    <tr style=\"text-align: right;\">\n",
       "      <th></th>\n",
       "      <th>username</th>\n",
       "      <th>user_followers</th>\n",
       "      <th>country</th>\n",
       "    </tr>\n",
       "  </thead>\n",
       "  <tbody>\n",
       "    <tr>\n",
       "      <th>0</th>\n",
       "      <td>BLITZKIDS mvt.</td>\n",
       "      <td>1330486</td>\n",
       "      <td>Missing</td>\n",
       "    </tr>\n",
       "    <tr>\n",
       "      <th>1</th>\n",
       "      <td>Intelligence Squared</td>\n",
       "      <td>1295669</td>\n",
       "      <td>London</td>\n",
       "    </tr>\n",
       "    <tr>\n",
       "      <th>2</th>\n",
       "      <td>Intelligence Squared</td>\n",
       "      <td>1295669</td>\n",
       "      <td>London</td>\n",
       "    </tr>\n",
       "    <tr>\n",
       "      <th>3</th>\n",
       "      <td>Intelligence Squared</td>\n",
       "      <td>1295669</td>\n",
       "      <td>London</td>\n",
       "    </tr>\n",
       "    <tr>\n",
       "      <th>4</th>\n",
       "      <td>BHPublishingGroup</td>\n",
       "      <td>1274724</td>\n",
       "      <td>Nashville, TN, United States</td>\n",
       "    </tr>\n",
       "    <tr>\n",
       "      <th>5</th>\n",
       "      <td>Mysie</td>\n",
       "      <td>1119520</td>\n",
       "      <td>London, United Kingdom</td>\n",
       "    </tr>\n",
       "    <tr>\n",
       "      <th>6</th>\n",
       "      <td>Westbam</td>\n",
       "      <td>1060732</td>\n",
       "      <td>Berlin, Germany</td>\n",
       "    </tr>\n",
       "    <tr>\n",
       "      <th>7</th>\n",
       "      <td>JLS Official</td>\n",
       "      <td>1055411</td>\n",
       "      <td>London, United Kingdom</td>\n",
       "    </tr>\n",
       "    <tr>\n",
       "      <th>8</th>\n",
       "      <td>6IX9INE</td>\n",
       "      <td>955866</td>\n",
       "      <td>Missing</td>\n",
       "    </tr>\n",
       "    <tr>\n",
       "      <th>9</th>\n",
       "      <td>Good Job, Brain!</td>\n",
       "      <td>954031</td>\n",
       "      <td>San Francisco, United States</td>\n",
       "    </tr>\n",
       "  </tbody>\n",
       "</table>\n",
       "</div>"
      ],
      "text/plain": [
       "               username  user_followers                       country\n",
       "0        BLITZKIDS mvt.         1330486                       Missing\n",
       "1  Intelligence Squared         1295669                        London\n",
       "2  Intelligence Squared         1295669                        London\n",
       "3  Intelligence Squared         1295669                        London\n",
       "4     BHPublishingGroup         1274724  Nashville, TN, United States\n",
       "5                 Mysie         1119520        London, United Kingdom\n",
       "6               Westbam         1060732               Berlin, Germany\n",
       "7          JLS Official         1055411        London, United Kingdom\n",
       "8               6IX9INE          955866                       Missing\n",
       "9      Good Job, Brain!          954031  San Francisco, United States"
      ]
     },
     "execution_count": 25,
     "metadata": {},
     "output_type": "execute_result"
    }
   ],
   "source": [
    "follower_col = new_df2[['username', 'user_followers', 'country']].sort_values(by='user_followers',ascending=False).reset_index(drop=True)\n",
    "follower_col.head(10)"
   ]
  },
  {
   "cell_type": "code",
   "execution_count": 26,
   "id": "e0b21ad8",
   "metadata": {},
   "outputs": [
    {
     "data": {
      "image/png": "[encoded data removed]",
      "text/plain": [
       "<Figure size 1000x500 with 1 Axes>"
      ]
     },
     "metadata": {},
     "output_type": "display_data"
    }
   ],
   "source": [
    "plt.figure(figsize=(10,5))\n",
    "plt.barh(follower_col.head(10)['username'],follower_col.head(10)['user_followers'])\n",
    "plt.xlabel(\"Number of followers\")\n",
    "plt.title(\"Top 10 user have most follower on soundcloud\")\n",
    "plt.show()"
   ]
  },
  {
   "cell_type": "markdown",
   "id": "2f2d9246",
   "metadata": {},
   "source": [
    "#### Top 10 nước có nhiều người sử dụng SC nhất:"
   ]
  },
  {
   "cell_type": "markdown",
   "id": "c5b2a61d",
   "metadata": {},
   "source": [
    "- Vì dữ liệu của cột country đa số là theo cấu trúc (tên thành phố/ tên nước) hoặc (Tên nước). Vì vậy ta sẽ loại bỏ tên thành phố và giữ lại tên nước, sau đó sẽ cập nhật lại"
   ]
  },
  {
   "cell_type": "code",
   "execution_count": 27,
   "id": "51e0bcc9",
   "metadata": {},
   "outputs": [
    {
     "data": {
      "text/plain": [
       "Text(0.5, 1.0, 'Top 10 user have most user on soundcloud')"
      ]
     },
     "execution_count": 27,
     "metadata": {},
     "output_type": "execute_result"
    },
    {
     "data": {
      "image/png": "[encoded data removed]",
      "text/plain": [
       "<Figure size 1200x500 with 1 Axes>"
      ]
     },
     "metadata": {},
     "output_type": "display_data"
    }
   ],
   "source": [
    "country = np.array(new_df2['country']).astype('str')\n",
    "\n",
    "country = country[country != 'Missing']\n",
    "\n",
    "def updateCountry(s):\n",
    "    s = s.replace(' ', '')\n",
    "    ls = s.split(',')\n",
    "    if(len(ls) != 1):\n",
    "        return ls[-1]\n",
    "    else:\n",
    "        return ls[0]\n",
    "\n",
    "for i in range(len(country)):\n",
    "    country[i] = updateCountry(country[i])\n",
    "\n",
    "data, count = np.unique(country, return_counts=True)\n",
    "count_sort_ind = np.argsort(-count)\n",
    "\n",
    "data = data[count_sort_ind]\n",
    "count = count[count_sort_ind]\n",
    "\n",
    "x_bar = data[0:10]\n",
    "y_bar = count[0:10]\n",
    "plt.figure(figsize=(12,5)) \n",
    "plt.barh(x_bar, y_bar)\n",
    "plt.xlabel(\"Number of User\")\n",
    "plt.title(\"Top 10 user have most user on soundcloud\")"
   ]
  },
  {
   "cell_type": "markdown",
   "id": "da1e616a",
   "metadata": {},
   "source": [
    "#### Top 10 nước có lượng người theo dõi nhạc nhiều nhất"
   ]
  },
  {
   "cell_type": "code",
   "execution_count": 28,
   "id": "e4ddccf4",
   "metadata": {},
   "outputs": [
    {
     "name": "stderr",
     "output_type": "stream",
     "text": [
      "/tmp/ipykernel_3744/522464832.py:5: SettingWithCopyWarning: \n",
      "A value is trying to be set on a copy of a slice from a DataFrame\n",
      "\n",
      "See the caveats in the documentation: https://pandas.pydata.org/pandas-docs/stable/user_guide/indexing.html#returning-a-view-versus-a-copy\n",
      "  country_follower['country'][i] = updateCountry(country_follower['country'][i])\n"
     ]
    },
    {
     "data": {
      "text/plain": [
       "Text(0.5, 1.0, 'Top 10 country have most followers on soundcloud')"
      ]
     },
     "execution_count": 28,
     "metadata": {},
     "output_type": "execute_result"
    },
    {
     "data": {
      "image/png": "[encoded data removed]",
      "text/plain": [
       "<Figure size 1200x500 with 1 Axes>"
      ]
     },
     "metadata": {},
     "output_type": "display_data"
    }
   ],
   "source": [
    "country_follower = new_df2[['country', 'user_followers']].reset_index(drop=True)\n",
    "country_follower['user_followers'].astype('int')\n",
    "country = country[country != 'Missing']\n",
    "for i in range(len(country_follower)):\n",
    "    country_follower['country'][i] = updateCountry(country_follower['country'][i])\n",
    " \n",
    "data_country = data\n",
    "data_count = np.zeros(len(data_country))\n",
    "dic ={}\n",
    "for A, B in zip(data_country, data_count):\n",
    "    dic[A] = B\n",
    "\n",
    "for i in range(len(country_follower)):\n",
    "    if (country_follower['country'][i] in data_country):\n",
    "        dic[country_follower['country'][i]] += country_follower['user_followers'][i]\n",
    "sorted(dic.items(), key=lambda item: item[1],reverse=True)\n",
    "\n",
    "result = dic.items()\n",
    "data = list(result)\n",
    "numpyArray = np.array(data)\n",
    "\n",
    "top10_country = []\n",
    "count = []\n",
    "\n",
    "for i in range(10):\n",
    "    top10_country.append(numpyArray[i][0])\n",
    "    count.append(numpyArray[i][1].astype('float')/1000)\n",
    "\n",
    "\n",
    "x_bar = top10_country\n",
    "y_bar = count\n",
    "plt.figure(figsize=(12,5)) \n",
    "plt.barh(x_bar, y_bar)\n",
    "plt.xlabel(\"Number of follower (*1000 followers)\")\n",
    "plt.title(\"Top 10 country have most followers on soundcloud\")"
   ]
  },
  {
   "cell_type": "markdown",
   "id": "3c44031e",
   "metadata": {},
   "source": [
    "- Phần lớp người theo dõi theo dõi người dùng đến từ Mỹ, Anh, ...\n",
    "- Đây cũng là những nước có số lượng người dùng SC nhiều nhất.\n",
    "- Các người dùng có lượng follower cao cũng đến từ những nước này."
   ]
  },
  {
   "cell_type": "markdown",
   "id": "c0acbd68",
   "metadata": {},
   "source": [
    "->Xu hướng âm nhạc hiện nay đang theo xu hướng âm nhạc của các nước như Anh, Mỹ,... Số lượng người dùng ở các nước này cao vì đây là những nước có nền công nghiệp phát triển, người dân được tiếp xúc công nghệ từ sớm."
   ]
  },
  {
   "cell_type": "markdown",
   "id": "a3106f4f",
   "metadata": {},
   "source": [
    "#### Tương quan giữa user_following , user_followers, track"
   ]
  },
  {
   "cell_type": "code",
   "execution_count": 29,
   "id": "e5bdd19e",
   "metadata": {},
   "outputs": [
    {
     "data": {
      "image/png": "[encoded data removed]",
      "text/plain": [
       "<Figure size 1500x500 with 2 Axes>"
      ]
     },
     "metadata": {},
     "output_type": "display_data"
    }
   ],
   "source": [
    "h = new_df2[['user_following', 'user_followers', 'track']]\n",
    "\n",
    "corr = h.corr()\n",
    "fig = plt.figure(figsize=(15,5))\n",
    "ax = fig.add_subplot(111)\n",
    "cax = ax.matshow(corr,cmap='coolwarm', vmin=-1, vmax=1)\n",
    "fig.colorbar(cax)\n",
    "ticks = np.arange(0,len(h.columns),1)\n",
    "ax.set_xticks(ticks)\n",
    "plt.xticks(rotation=90)\n",
    "ax.set_yticks(ticks)\n",
    "ax.set_xticklabels(h.columns)\n",
    "ax.set_yticklabels(h.columns)\n",
    "plt.show()"
   ]
  },
  {
   "cell_type": "markdown",
   "id": "054b1f90",
   "metadata": {},
   "source": [
    "- 3 thuộc tính trên có gì liên quan đến nhau hay không ?"
   ]
  },
  {
   "cell_type": "code",
   "execution_count": 30,
   "id": "22fc253e",
   "metadata": {
    "scrolled": false
   },
   "outputs": [
    {
     "data": {
      "image/png": "[encoded data removed]",
      "text/plain": [
       "<Figure size 640x480 with 1 Axes>"
      ]
     },
     "metadata": {},
     "output_type": "display_data"
    },
    {
     "data": {
      "image/png": "[encoded data removed]",
      "text/plain": [
       "<Figure size 640x480 with 1 Axes>"
      ]
     },
     "metadata": {},
     "output_type": "display_data"
    }
   ],
   "source": [
    "sns.scatterplot(data=h, x=\"user_following\", y=\"user_followers\")\n",
    "plt.show()\n",
    "sns.scatterplot(data=h, x=\"user_following\", y=\"track\")\n",
    "plt.show()"
   ]
  },
  {
   "cell_type": "markdown",
   "id": "f00ad7ef",
   "metadata": {},
   "source": [
    "- Có vẻ không có mối quan hệ đặc biệt nào giữa user_following và track của tài khoản ấy.\n",
    "- Tương tự, giữa số lượng user_following và số lượng user_follower cũng không cung cấp thông tin đặc biệt."
   ]
  },
  {
   "cell_type": "code",
   "execution_count": 31,
   "id": "ef147af6",
   "metadata": {
    "scrolled": false
   },
   "outputs": [
    {
     "data": {
      "image/png": "[encoded data removed]",
      "text/plain": [
       "<Figure size 640x480 with 1 Axes>"
      ]
     },
     "metadata": {},
     "output_type": "display_data"
    }
   ],
   "source": [
    "sns.scatterplot(data=h, x=\"user_followers\", y=\"track\")\n",
    "plt.show()"
   ]
  },
  {
   "cell_type": "markdown",
   "id": "9ee0b795",
   "metadata": {},
   "source": [
    "- Chủ yếu những người có số track ít thì có số lượt theo dõi ít. Đáng chú ý là có một vài người dùng có lượng track không quá nhiều (<100 track) nhưng lại có lượt theo dõi cao, có thể các user đó là tài khoản của nghệ sĩ tự quảng bá ca khúc của họ"
   ]
  },
  {
   "cell_type": "code",
   "execution_count": null,
   "id": "f5a9d574",
   "metadata": {},
   "outputs": [],
   "source": []
  }
 ],
 "metadata": {
  "kernelspec": {
   "display_name": "Python 3 (ipykernel)",
   "language": "python",
   "name": "python3"
  },
  "language_info": {
   "codemirror_mode": {
    "name": "ipython",
    "version": 3
   },
   "file_extension": ".py",
   "mimetype": "text/x-python",
   "name": "python",
   "nbconvert_exporter": "python",
   "pygments_lexer": "ipython3",
   "version": "3.10.6"
  }
 },
 "nbformat": 4,
 "nbformat_minor": 5
}
